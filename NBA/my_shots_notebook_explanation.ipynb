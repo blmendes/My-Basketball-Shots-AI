{
  "nbformat": 4,
  "nbformat_minor": 0,
  "metadata": {
    "colab": {
      "name": "my_shots_notebook_explanation.ipynb",
      "provenance": [],
      "collapsed_sections": [],
      "include_colab_link": true
    },
    "kernelspec": {
      "name": "python3",
      "display_name": "Python 3"
    }
  },
  "cells": [
    {
      "cell_type": "markdown",
      "metadata": {
        "id": "view-in-github",
        "colab_type": "text"
      },
      "source": [
        "<a href=\"https://colab.research.google.com/github/blmendes/My-Basketball-Shots-AI/blob/main/my_shots_notebook_explanation.ipynb\" target=\"_parent\"><img src=\"https://colab.research.google.com/assets/colab-badge.svg\" alt=\"Open In Colab\"/></a>"
      ]
    },
    {
      "cell_type": "markdown",
      "metadata": {
        "id": "7pd8g8H84QgQ"
      },
      "source": [
        "# My Shots\n",
        "<img class=\"emoji\" alt=\"basketabll\" height=\"20\" width=\"20\" src=\"https://github.githubassets.com/images/icons/emoji/unicode/1f3c0.png\"> **Analyze basketball shots and shooting pose with machine learning!**\n",
        "\n",
        "\n",
        "\n",
        "**CMU Perceptual Computing Lab** for **[OpenPose](https://github.com/CMU-Perceptual-Computing-Lab/openpose)**"
      ]
    },
    {
      "cell_type": "markdown",
      "metadata": {
        "id": "uBaDchtbM0YU"
      },
      "source": [
        "# requirements "
      ]
    },
    {
      "cell_type": "code",
      "metadata": {
        "id": "3VzukrqfLUFB",
        "colab": {
          "base_uri": "https://localhost:8080/"
        },
        "outputId": "7fd18bcf-e524-49b6-a707-c2d7346969a8"
      },
      "source": [
        "!pip install youtube-dl\n",
        "!pip install -q qrcode"
      ],
      "execution_count": 1,
      "outputs": [
        {
          "output_type": "stream",
          "text": [
            "Collecting youtube-dl\n",
            "  Downloading youtube_dl-2021.6.6-py2.py3-none-any.whl (1.9 MB)\n",
            "\u001b[?25l\r\u001b[K     |▏                               | 10 kB 25.3 MB/s eta 0:00:01\r\u001b[K     |▍                               | 20 kB 28.8 MB/s eta 0:00:01\r\u001b[K     |▌                               | 30 kB 34.2 MB/s eta 0:00:01\r\u001b[K     |▊                               | 40 kB 24.1 MB/s eta 0:00:01\r\u001b[K     |▉                               | 51 kB 10.4 MB/s eta 0:00:01\r\u001b[K     |█                               | 61 kB 10.8 MB/s eta 0:00:01\r\u001b[K     |█▏                              | 71 kB 9.2 MB/s eta 0:00:01\r\u001b[K     |█▍                              | 81 kB 10.1 MB/s eta 0:00:01\r\u001b[K     |█▌                              | 92 kB 8.4 MB/s eta 0:00:01\r\u001b[K     |█▊                              | 102 kB 9.0 MB/s eta 0:00:01\r\u001b[K     |██                              | 112 kB 9.0 MB/s eta 0:00:01\r\u001b[K     |██                              | 122 kB 9.0 MB/s eta 0:00:01\r\u001b[K     |██▎                             | 133 kB 9.0 MB/s eta 0:00:01\r\u001b[K     |██▍                             | 143 kB 9.0 MB/s eta 0:00:01\r\u001b[K     |██▋                             | 153 kB 9.0 MB/s eta 0:00:01\r\u001b[K     |██▊                             | 163 kB 9.0 MB/s eta 0:00:01\r\u001b[K     |███                             | 174 kB 9.0 MB/s eta 0:00:01\r\u001b[K     |███                             | 184 kB 9.0 MB/s eta 0:00:01\r\u001b[K     |███▎                            | 194 kB 9.0 MB/s eta 0:00:01\r\u001b[K     |███▍                            | 204 kB 9.0 MB/s eta 0:00:01\r\u001b[K     |███▋                            | 215 kB 9.0 MB/s eta 0:00:01\r\u001b[K     |███▉                            | 225 kB 9.0 MB/s eta 0:00:01\r\u001b[K     |████                            | 235 kB 9.0 MB/s eta 0:00:01\r\u001b[K     |████▏                           | 245 kB 9.0 MB/s eta 0:00:01\r\u001b[K     |████▎                           | 256 kB 9.0 MB/s eta 0:00:01\r\u001b[K     |████▌                           | 266 kB 9.0 MB/s eta 0:00:01\r\u001b[K     |████▋                           | 276 kB 9.0 MB/s eta 0:00:01\r\u001b[K     |████▉                           | 286 kB 9.0 MB/s eta 0:00:01\r\u001b[K     |█████                           | 296 kB 9.0 MB/s eta 0:00:01\r\u001b[K     |█████▏                          | 307 kB 9.0 MB/s eta 0:00:01\r\u001b[K     |█████▎                          | 317 kB 9.0 MB/s eta 0:00:01\r\u001b[K     |█████▌                          | 327 kB 9.0 MB/s eta 0:00:01\r\u001b[K     |█████▊                          | 337 kB 9.0 MB/s eta 0:00:01\r\u001b[K     |█████▉                          | 348 kB 9.0 MB/s eta 0:00:01\r\u001b[K     |██████                          | 358 kB 9.0 MB/s eta 0:00:01\r\u001b[K     |██████▏                         | 368 kB 9.0 MB/s eta 0:00:01\r\u001b[K     |██████▍                         | 378 kB 9.0 MB/s eta 0:00:01\r\u001b[K     |██████▌                         | 389 kB 9.0 MB/s eta 0:00:01\r\u001b[K     |██████▊                         | 399 kB 9.0 MB/s eta 0:00:01\r\u001b[K     |██████▉                         | 409 kB 9.0 MB/s eta 0:00:01\r\u001b[K     |███████                         | 419 kB 9.0 MB/s eta 0:00:01\r\u001b[K     |███████▎                        | 430 kB 9.0 MB/s eta 0:00:01\r\u001b[K     |███████▍                        | 440 kB 9.0 MB/s eta 0:00:01\r\u001b[K     |███████▋                        | 450 kB 9.0 MB/s eta 0:00:01\r\u001b[K     |███████▊                        | 460 kB 9.0 MB/s eta 0:00:01\r\u001b[K     |████████                        | 471 kB 9.0 MB/s eta 0:00:01\r\u001b[K     |████████                        | 481 kB 9.0 MB/s eta 0:00:01\r\u001b[K     |████████▎                       | 491 kB 9.0 MB/s eta 0:00:01\r\u001b[K     |████████▍                       | 501 kB 9.0 MB/s eta 0:00:01\r\u001b[K     |████████▋                       | 512 kB 9.0 MB/s eta 0:00:01\r\u001b[K     |████████▊                       | 522 kB 9.0 MB/s eta 0:00:01\r\u001b[K     |█████████                       | 532 kB 9.0 MB/s eta 0:00:01\r\u001b[K     |█████████▏                      | 542 kB 9.0 MB/s eta 0:00:01\r\u001b[K     |█████████▎                      | 552 kB 9.0 MB/s eta 0:00:01\r\u001b[K     |█████████▌                      | 563 kB 9.0 MB/s eta 0:00:01\r\u001b[K     |█████████▋                      | 573 kB 9.0 MB/s eta 0:00:01\r\u001b[K     |█████████▉                      | 583 kB 9.0 MB/s eta 0:00:01\r\u001b[K     |██████████                      | 593 kB 9.0 MB/s eta 0:00:01\r\u001b[K     |██████████▏                     | 604 kB 9.0 MB/s eta 0:00:01\r\u001b[K     |██████████▎                     | 614 kB 9.0 MB/s eta 0:00:01\r\u001b[K     |██████████▌                     | 624 kB 9.0 MB/s eta 0:00:01\r\u001b[K     |██████████▋                     | 634 kB 9.0 MB/s eta 0:00:01\r\u001b[K     |██████████▉                     | 645 kB 9.0 MB/s eta 0:00:01\r\u001b[K     |███████████                     | 655 kB 9.0 MB/s eta 0:00:01\r\u001b[K     |███████████▏                    | 665 kB 9.0 MB/s eta 0:00:01\r\u001b[K     |███████████▍                    | 675 kB 9.0 MB/s eta 0:00:01\r\u001b[K     |███████████▌                    | 686 kB 9.0 MB/s eta 0:00:01\r\u001b[K     |███████████▊                    | 696 kB 9.0 MB/s eta 0:00:01\r\u001b[K     |███████████▉                    | 706 kB 9.0 MB/s eta 0:00:01\r\u001b[K     |████████████                    | 716 kB 9.0 MB/s eta 0:00:01\r\u001b[K     |████████████▏                   | 727 kB 9.0 MB/s eta 0:00:01\r\u001b[K     |████████████▍                   | 737 kB 9.0 MB/s eta 0:00:01\r\u001b[K     |████████████▋                   | 747 kB 9.0 MB/s eta 0:00:01\r\u001b[K     |████████████▊                   | 757 kB 9.0 MB/s eta 0:00:01\r\u001b[K     |█████████████                   | 768 kB 9.0 MB/s eta 0:00:01\r\u001b[K     |█████████████                   | 778 kB 9.0 MB/s eta 0:00:01\r\u001b[K     |█████████████▎                  | 788 kB 9.0 MB/s eta 0:00:01\r\u001b[K     |█████████████▍                  | 798 kB 9.0 MB/s eta 0:00:01\r\u001b[K     |█████████████▋                  | 808 kB 9.0 MB/s eta 0:00:01\r\u001b[K     |█████████████▊                  | 819 kB 9.0 MB/s eta 0:00:01\r\u001b[K     |██████████████                  | 829 kB 9.0 MB/s eta 0:00:01\r\u001b[K     |██████████████                  | 839 kB 9.0 MB/s eta 0:00:01\r\u001b[K     |██████████████▎                 | 849 kB 9.0 MB/s eta 0:00:01\r\u001b[K     |██████████████▌                 | 860 kB 9.0 MB/s eta 0:00:01\r\u001b[K     |██████████████▋                 | 870 kB 9.0 MB/s eta 0:00:01\r\u001b[K     |██████████████▉                 | 880 kB 9.0 MB/s eta 0:00:01\r\u001b[K     |███████████████                 | 890 kB 9.0 MB/s eta 0:00:01\r\u001b[K     |███████████████▏                | 901 kB 9.0 MB/s eta 0:00:01\r\u001b[K     |███████████████▎                | 911 kB 9.0 MB/s eta 0:00:01\r\u001b[K     |███████████████▌                | 921 kB 9.0 MB/s eta 0:00:01\r\u001b[K     |███████████████▋                | 931 kB 9.0 MB/s eta 0:00:01\r\u001b[K     |███████████████▉                | 942 kB 9.0 MB/s eta 0:00:01\r\u001b[K     |████████████████                | 952 kB 9.0 MB/s eta 0:00:01\r\u001b[K     |████████████████▏               | 962 kB 9.0 MB/s eta 0:00:01\r\u001b[K     |████████████████▍               | 972 kB 9.0 MB/s eta 0:00:01\r\u001b[K     |████████████████▌               | 983 kB 9.0 MB/s eta 0:00:01\r\u001b[K     |████████████████▊               | 993 kB 9.0 MB/s eta 0:00:01\r\u001b[K     |████████████████▉               | 1.0 MB 9.0 MB/s eta 0:00:01\r\u001b[K     |█████████████████               | 1.0 MB 9.0 MB/s eta 0:00:01\r\u001b[K     |█████████████████▏              | 1.0 MB 9.0 MB/s eta 0:00:01\r\u001b[K     |█████████████████▍              | 1.0 MB 9.0 MB/s eta 0:00:01\r\u001b[K     |█████████████████▌              | 1.0 MB 9.0 MB/s eta 0:00:01\r\u001b[K     |█████████████████▊              | 1.1 MB 9.0 MB/s eta 0:00:01\r\u001b[K     |██████████████████              | 1.1 MB 9.0 MB/s eta 0:00:01\r\u001b[K     |██████████████████              | 1.1 MB 9.0 MB/s eta 0:00:01\r\u001b[K     |██████████████████▎             | 1.1 MB 9.0 MB/s eta 0:00:01\r\u001b[K     |██████████████████▍             | 1.1 MB 9.0 MB/s eta 0:00:01\r\u001b[K     |██████████████████▋             | 1.1 MB 9.0 MB/s eta 0:00:01\r\u001b[K     |██████████████████▊             | 1.1 MB 9.0 MB/s eta 0:00:01\r\u001b[K     |███████████████████             | 1.1 MB 9.0 MB/s eta 0:00:01\r\u001b[K     |███████████████████             | 1.1 MB 9.0 MB/s eta 0:00:01\r\u001b[K     |███████████████████▎            | 1.1 MB 9.0 MB/s eta 0:00:01\r\u001b[K     |███████████████████▍            | 1.2 MB 9.0 MB/s eta 0:00:01\r\u001b[K     |███████████████████▋            | 1.2 MB 9.0 MB/s eta 0:00:01\r\u001b[K     |███████████████████▉            | 1.2 MB 9.0 MB/s eta 0:00:01\r\u001b[K     |████████████████████            | 1.2 MB 9.0 MB/s eta 0:00:01\r\u001b[K     |████████████████████▏           | 1.2 MB 9.0 MB/s eta 0:00:01\r\u001b[K     |████████████████████▎           | 1.2 MB 9.0 MB/s eta 0:00:01\r\u001b[K     |████████████████████▌           | 1.2 MB 9.0 MB/s eta 0:00:01\r\u001b[K     |████████████████████▋           | 1.2 MB 9.0 MB/s eta 0:00:01\r\u001b[K     |████████████████████▉           | 1.2 MB 9.0 MB/s eta 0:00:01\r\u001b[K     |█████████████████████           | 1.2 MB 9.0 MB/s eta 0:00:01\r\u001b[K     |█████████████████████▏          | 1.3 MB 9.0 MB/s eta 0:00:01\r\u001b[K     |█████████████████████▎          | 1.3 MB 9.0 MB/s eta 0:00:01\r\u001b[K     |█████████████████████▌          | 1.3 MB 9.0 MB/s eta 0:00:01\r\u001b[K     |█████████████████████▊          | 1.3 MB 9.0 MB/s eta 0:00:01\r\u001b[K     |█████████████████████▉          | 1.3 MB 9.0 MB/s eta 0:00:01\r\u001b[K     |██████████████████████          | 1.3 MB 9.0 MB/s eta 0:00:01\r\u001b[K     |██████████████████████▏         | 1.3 MB 9.0 MB/s eta 0:00:01\r\u001b[K     |██████████████████████▍         | 1.3 MB 9.0 MB/s eta 0:00:01\r\u001b[K     |██████████████████████▌         | 1.3 MB 9.0 MB/s eta 0:00:01\r\u001b[K     |██████████████████████▊         | 1.4 MB 9.0 MB/s eta 0:00:01\r\u001b[K     |██████████████████████▉         | 1.4 MB 9.0 MB/s eta 0:00:01\r\u001b[K     |███████████████████████         | 1.4 MB 9.0 MB/s eta 0:00:01\r\u001b[K     |███████████████████████▎        | 1.4 MB 9.0 MB/s eta 0:00:01\r\u001b[K     |███████████████████████▍        | 1.4 MB 9.0 MB/s eta 0:00:01\r\u001b[K     |███████████████████████▋        | 1.4 MB 9.0 MB/s eta 0:00:01\r\u001b[K     |███████████████████████▊        | 1.4 MB 9.0 MB/s eta 0:00:01\r\u001b[K     |████████████████████████        | 1.4 MB 9.0 MB/s eta 0:00:01\r\u001b[K     |████████████████████████        | 1.4 MB 9.0 MB/s eta 0:00:01\r\u001b[K     |████████████████████████▎       | 1.4 MB 9.0 MB/s eta 0:00:01\r\u001b[K     |████████████████████████▍       | 1.5 MB 9.0 MB/s eta 0:00:01\r\u001b[K     |████████████████████████▋       | 1.5 MB 9.0 MB/s eta 0:00:01\r\u001b[K     |████████████████████████▊       | 1.5 MB 9.0 MB/s eta 0:00:01\r\u001b[K     |█████████████████████████       | 1.5 MB 9.0 MB/s eta 0:00:01\r\u001b[K     |█████████████████████████▏      | 1.5 MB 9.0 MB/s eta 0:00:01\r\u001b[K     |█████████████████████████▎      | 1.5 MB 9.0 MB/s eta 0:00:01\r\u001b[K     |█████████████████████████▌      | 1.5 MB 9.0 MB/s eta 0:00:01\r\u001b[K     |█████████████████████████▋      | 1.5 MB 9.0 MB/s eta 0:00:01\r\u001b[K     |█████████████████████████▉      | 1.5 MB 9.0 MB/s eta 0:00:01\r\u001b[K     |██████████████████████████      | 1.5 MB 9.0 MB/s eta 0:00:01\r\u001b[K     |██████████████████████████▏     | 1.6 MB 9.0 MB/s eta 0:00:01\r\u001b[K     |██████████████████████████▎     | 1.6 MB 9.0 MB/s eta 0:00:01\r\u001b[K     |██████████████████████████▌     | 1.6 MB 9.0 MB/s eta 0:00:01\r\u001b[K     |██████████████████████████▋     | 1.6 MB 9.0 MB/s eta 0:00:01\r\u001b[K     |██████████████████████████▉     | 1.6 MB 9.0 MB/s eta 0:00:01\r\u001b[K     |███████████████████████████     | 1.6 MB 9.0 MB/s eta 0:00:01\r\u001b[K     |███████████████████████████▏    | 1.6 MB 9.0 MB/s eta 0:00:01\r\u001b[K     |███████████████████████████▍    | 1.6 MB 9.0 MB/s eta 0:00:01\r\u001b[K     |███████████████████████████▌    | 1.6 MB 9.0 MB/s eta 0:00:01\r\u001b[K     |███████████████████████████▊    | 1.6 MB 9.0 MB/s eta 0:00:01\r\u001b[K     |███████████████████████████▉    | 1.7 MB 9.0 MB/s eta 0:00:01\r\u001b[K     |████████████████████████████    | 1.7 MB 9.0 MB/s eta 0:00:01\r\u001b[K     |████████████████████████████▏   | 1.7 MB 9.0 MB/s eta 0:00:01\r\u001b[K     |████████████████████████████▍   | 1.7 MB 9.0 MB/s eta 0:00:01\r\u001b[K     |████████████████████████████▋   | 1.7 MB 9.0 MB/s eta 0:00:01\r\u001b[K     |████████████████████████████▊   | 1.7 MB 9.0 MB/s eta 0:00:01\r\u001b[K     |█████████████████████████████   | 1.7 MB 9.0 MB/s eta 0:00:01\r\u001b[K     |█████████████████████████████   | 1.7 MB 9.0 MB/s eta 0:00:01\r\u001b[K     |█████████████████████████████▎  | 1.7 MB 9.0 MB/s eta 0:00:01\r\u001b[K     |█████████████████████████████▍  | 1.8 MB 9.0 MB/s eta 0:00:01\r\u001b[K     |█████████████████████████████▋  | 1.8 MB 9.0 MB/s eta 0:00:01\r\u001b[K     |█████████████████████████████▊  | 1.8 MB 9.0 MB/s eta 0:00:01\r\u001b[K     |██████████████████████████████  | 1.8 MB 9.0 MB/s eta 0:00:01\r\u001b[K     |██████████████████████████████  | 1.8 MB 9.0 MB/s eta 0:00:01\r\u001b[K     |██████████████████████████████▎ | 1.8 MB 9.0 MB/s eta 0:00:01\r\u001b[K     |██████████████████████████████▌ | 1.8 MB 9.0 MB/s eta 0:00:01\r\u001b[K     |██████████████████████████████▋ | 1.8 MB 9.0 MB/s eta 0:00:01\r\u001b[K     |██████████████████████████████▉ | 1.8 MB 9.0 MB/s eta 0:00:01\r\u001b[K     |███████████████████████████████ | 1.8 MB 9.0 MB/s eta 0:00:01\r\u001b[K     |███████████████████████████████▏| 1.9 MB 9.0 MB/s eta 0:00:01\r\u001b[K     |███████████████████████████████▎| 1.9 MB 9.0 MB/s eta 0:00:01\r\u001b[K     |███████████████████████████████▌| 1.9 MB 9.0 MB/s eta 0:00:01\r\u001b[K     |███████████████████████████████▋| 1.9 MB 9.0 MB/s eta 0:00:01\r\u001b[K     |███████████████████████████████▉| 1.9 MB 9.0 MB/s eta 0:00:01\r\u001b[K     |████████████████████████████████| 1.9 MB 9.0 MB/s eta 0:00:01\r\u001b[K     |████████████████████████████████| 1.9 MB 9.0 MB/s \n",
            "\u001b[?25hInstalling collected packages: youtube-dl\n",
            "Successfully installed youtube-dl-2021.6.6\n",
            "\u001b[K     |████████████████████████████████| 43 kB 800 kB/s \n",
            "\u001b[?25h  Building wheel for qrcode (setup.py) ... \u001b[?25l\u001b[?25hdone\n"
          ],
          "name": "stdout"
        }
      ]
    },
    {
      "cell_type": "code",
      "metadata": {
        "id": "KAfXDCLsfKYk",
        "colab": {
          "base_uri": "https://localhost:8080/"
        },
        "outputId": "10414e39-3b9d-444d-a3b1-d56be1631acc"
      },
      "source": [
        "# First, change the runtime type to \"GPU\".\n",
        "! nvcc --version\n",
        "! nvidia-smi # Confirm runtime to GPU\n",
        "''' Openpose version tag '''\n",
        "! cmake --version\n",
        "\n",
        "'''CMake can generate a native build environment that will compile source code, create libraries, \n",
        "   generate wrappers and build executables in arbitrary combinations.'''\n",
        "! wget -c \"https://github.com/Kitware/CMake/releases/download/v3.21.1/cmake-3.21.1.tar.gz\"\n",
        "! tar xf cmake-3.21.1.tar.gz\n",
        "! cd cmake-3.21.1 && ./configure && make && sudo make install # (about 15min)"
      ],
      "execution_count": null,
      "outputs": [
        {
          "output_type": "stream",
          "text": [
            "[ 64%] \u001b[32mBuilding CXX object Source/CMakeFiles/CMakeLib.dir/cmListFileCache.cxx.o\u001b[0m\n",
            "[ 64%] \u001b[32mBuilding CXX object Source/CMakeFiles/CMakeLib.dir/cmLocalCommonGenerator.cxx.o\u001b[0m\n",
            "[ 64%] \u001b[32mBuilding CXX object Source/CMakeFiles/CMakeLib.dir/cmLocalGenerator.cxx.o\u001b[0m\n",
            "[ 64%] \u001b[32mBuilding CXX object Source/CMakeFiles/CMakeLib.dir/cmRulePlaceholderExpander.cxx.o\u001b[0m\n",
            "[ 64%] \u001b[32mBuilding CXX object Source/CMakeFiles/CMakeLib.dir/cmLocalUnixMakefileGenerator3.cxx.o\u001b[0m\n",
            "[ 64%] \u001b[32mBuilding CXX object Source/CMakeFiles/CMakeLib.dir/cmMakefile.cxx.o\u001b[0m\n",
            "[ 64%] \u001b[32mBuilding CXX object Source/CMakeFiles/CMakeLib.dir/cmMakefileTargetGenerator.cxx.o\u001b[0m\n",
            "[ 65%] \u001b[32mBuilding CXX object Source/CMakeFiles/CMakeLib.dir/cmMakefileExecutableTargetGenerator.cxx.o\u001b[0m\n",
            "[ 65%] \u001b[32mBuilding CXX object Source/CMakeFiles/CMakeLib.dir/cmMakefileLibraryTargetGenerator.cxx.o\u001b[0m\n",
            "[ 65%] \u001b[32mBuilding CXX object Source/CMakeFiles/CMakeLib.dir/cmMakefileProfilingData.cxx.o\u001b[0m\n",
            "[ 65%] \u001b[32mBuilding CXX object Source/CMakeFiles/CMakeLib.dir/cmMakefileUtilityTargetGenerator.cxx.o\u001b[0m\n",
            "[ 65%] \u001b[32mBuilding CXX object Source/CMakeFiles/CMakeLib.dir/cmMessenger.cxx.o\u001b[0m\n",
            "[ 65%] \u001b[32mBuilding CXX object Source/CMakeFiles/CMakeLib.dir/cmMSVC60LinkLineComputer.cxx.o\u001b[0m\n",
            "[ 65%] \u001b[32mBuilding CXX object Source/CMakeFiles/CMakeLib.dir/cmOSXBundleGenerator.cxx.o\u001b[0m\n",
            "[ 65%] \u001b[32mBuilding CXX object Source/CMakeFiles/CMakeLib.dir/cmOutputConverter.cxx.o\u001b[0m\n",
            "[ 65%] \u001b[32mBuilding CXX object Source/CMakeFiles/CMakeLib.dir/cmNewLineStyle.cxx.o\u001b[0m\n",
            "[ 65%] \u001b[32mBuilding CXX object Source/CMakeFiles/CMakeLib.dir/cmOrderDirectories.cxx.o\u001b[0m\n",
            "[ 65%] \u001b[32mBuilding CXX object Source/CMakeFiles/CMakeLib.dir/cmPolicies.cxx.o\u001b[0m\n",
            "[ 66%] \u001b[32mBuilding CXX object Source/CMakeFiles/CMakeLib.dir/cmProcessOutput.cxx.o\u001b[0m\n",
            "[ 66%] \u001b[32mBuilding CXX object Source/CMakeFiles/CMakeLib.dir/cmProcessTools.cxx.o\u001b[0m\n",
            "[ 66%] \u001b[32mBuilding CXX object Source/CMakeFiles/CMakeLib.dir/cmPropertyDefinition.cxx.o\u001b[0m\n",
            "[ 66%] \u001b[32mBuilding CXX object Source/CMakeFiles/CMakeLib.dir/cmPropertyMap.cxx.o\u001b[0m\n",
            "[ 66%] \u001b[32mBuilding CXX object Source/CMakeFiles/CMakeLib.dir/cmQtAutoGen.cxx.o\u001b[0m\n",
            "[ 66%] \u001b[32mBuilding CXX object Source/CMakeFiles/CMakeLib.dir/cmQtAutoGenerator.cxx.o\u001b[0m\n",
            "[ 66%] \u001b[32mBuilding CXX object Source/CMakeFiles/CMakeLib.dir/cmQtAutoGenGlobalInitializer.cxx.o\u001b[0m\n",
            "[ 66%] \u001b[32mBuilding CXX object Source/CMakeFiles/CMakeLib.dir/cmQtAutoGenInitializer.cxx.o\u001b[0m\n",
            "[ 66%] \u001b[32mBuilding CXX object Source/CMakeFiles/CMakeLib.dir/cmQtAutoMocUic.cxx.o\u001b[0m\n",
            "[ 66%] \u001b[32mBuilding CXX object Source/CMakeFiles/CMakeLib.dir/cmQtAutoRcc.cxx.o\u001b[0m\n",
            "[ 67%] \u001b[32mBuilding CXX object Source/CMakeFiles/CMakeLib.dir/cmQtAutoUicHelpers.cxx.o\u001b[0m\n",
            "[ 67%] \u001b[32mBuilding CXX object Source/CMakeFiles/CMakeLib.dir/cmRST.cxx.o\u001b[0m\n",
            "[ 67%] \u001b[32mBuilding CXX object Source/CMakeFiles/CMakeLib.dir/cmRuntimeDependencyArchive.cxx.o\u001b[0m\n",
            "[ 67%] \u001b[32mBuilding CXX object Source/CMakeFiles/CMakeLib.dir/cmScriptGenerator.cxx.o\u001b[0m\n",
            "[ 67%] \u001b[32mBuilding CXX object Source/CMakeFiles/CMakeLib.dir/cmSourceFile.cxx.o\u001b[0m\n",
            "[ 67%] \u001b[32mBuilding CXX object Source/CMakeFiles/CMakeLib.dir/cmSourceFileLocation.cxx.o\u001b[0m\n",
            "[ 67%] \u001b[32mBuilding CXX object Source/CMakeFiles/CMakeLib.dir/cmSourceGroup.cxx.o\u001b[0m\n",
            "[ 67%] \u001b[32mBuilding CXX object Source/CMakeFiles/CMakeLib.dir/cmStandardLevelResolver.cxx.o\u001b[0m\n",
            "[ 67%] \u001b[32mBuilding CXX object Source/CMakeFiles/CMakeLib.dir/cmState.cxx.o\u001b[0m\n",
            "[ 67%] \u001b[32mBuilding CXX object Source/CMakeFiles/CMakeLib.dir/cmStateDirectory.cxx.o\u001b[0m\n",
            "[ 67%] \u001b[32mBuilding CXX object Source/CMakeFiles/CMakeLib.dir/cmStateSnapshot.cxx.o\u001b[0m\n",
            "[ 68%] \u001b[32mBuilding CXX object Source/CMakeFiles/CMakeLib.dir/cmStringAlgorithms.cxx.o\u001b[0m\n",
            "[ 68%] \u001b[32mBuilding CXX object Source/CMakeFiles/CMakeLib.dir/cmSystemTools.cxx.o\u001b[0m\n",
            "[ 68%] \u001b[32mBuilding CXX object Source/CMakeFiles/CMakeLib.dir/cmTarget.cxx.o\u001b[0m\n",
            "[ 68%] \u001b[32mBuilding CXX object Source/CMakeFiles/CMakeLib.dir/cmTargetPropertyComputer.cxx.o\u001b[0m\n",
            "[ 68%] \u001b[32mBuilding CXX object Source/CMakeFiles/CMakeLib.dir/cmTest.cxx.o\u001b[0m\n",
            "[ 68%] \u001b[32mBuilding CXX object Source/CMakeFiles/CMakeLib.dir/cmTestGenerator.cxx.o\u001b[0m\n",
            "[ 68%] \u001b[32mBuilding CXX object Source/CMakeFiles/CMakeLib.dir/cmTransformDepfile.cxx.o\u001b[0m\n",
            "[ 68%] \u001b[32mBuilding CXX object Source/CMakeFiles/CMakeLib.dir/cmUuid.cxx.o\u001b[0m\n",
            "[ 68%] \u001b[32mBuilding CXX object Source/CMakeFiles/CMakeLib.dir/cmUVHandlePtr.cxx.o\u001b[0m\n",
            "[ 68%] \u001b[32mBuilding CXX object Source/CMakeFiles/CMakeLib.dir/cmUVProcessChain.cxx.o\u001b[0m\n",
            "[ 68%] \u001b[32mBuilding CXX object Source/CMakeFiles/CMakeLib.dir/cmVariableWatch.cxx.o\u001b[0m\n",
            "[ 69%] \u001b[32mBuilding CXX object Source/CMakeFiles/CMakeLib.dir/cmVersion.cxx.o\u001b[0m\n",
            "[ 69%] \u001b[32mBuilding CXX object Source/CMakeFiles/CMakeLib.dir/cmWorkerPool.cxx.o\u001b[0m\n",
            "[ 69%] \u001b[32mBuilding CXX object Source/CMakeFiles/CMakeLib.dir/cmWorkingDirectory.cxx.o\u001b[0m\n",
            "[ 69%] \u001b[32mBuilding CXX object Source/CMakeFiles/CMakeLib.dir/cmXMLParser.cxx.o\u001b[0m\n",
            "[ 69%] \u001b[32mBuilding CXX object Source/CMakeFiles/CMakeLib.dir/cmXMLSafe.cxx.o\u001b[0m\n",
            "[ 69%] \u001b[32mBuilding CXX object Source/CMakeFiles/CMakeLib.dir/cmXMLWriter.cxx.o\u001b[0m\n",
            "[ 69%] \u001b[32mBuilding CXX object Source/CMakeFiles/CMakeLib.dir/cmake.cxx.o\u001b[0m\n",
            "[ 69%] \u001b[32mBuilding CXX object Source/CMakeFiles/CMakeLib.dir/cmCommand.cxx.o\u001b[0m\n",
            "[ 69%] \u001b[32mBuilding CXX object Source/CMakeFiles/CMakeLib.dir/cmCommands.cxx.o\u001b[0m\n",
            "[ 69%] \u001b[32mBuilding CXX object Source/CMakeFiles/CMakeLib.dir/cmAddCompileDefinitionsCommand.cxx.o\u001b[0m\n",
            "[ 70%] \u001b[32mBuilding CXX object Source/CMakeFiles/CMakeLib.dir/cmAddCompileOptionsCommand.cxx.o\u001b[0m\n",
            "[ 70%] \u001b[32mBuilding CXX object Source/CMakeFiles/CMakeLib.dir/cmAddLinkOptionsCommand.cxx.o\u001b[0m\n",
            "[ 70%] \u001b[32mBuilding CXX object Source/CMakeFiles/CMakeLib.dir/cmAddCustomCommandCommand.cxx.o\u001b[0m\n",
            "[ 70%] \u001b[32mBuilding CXX object Source/CMakeFiles/CMakeLib.dir/cmAddCustomTargetCommand.cxx.o\u001b[0m\n",
            "[ 70%] \u001b[32mBuilding CXX object Source/CMakeFiles/CMakeLib.dir/cmAddDefinitionsCommand.cxx.o\u001b[0m\n",
            "[ 70%] \u001b[32mBuilding CXX object Source/CMakeFiles/CMakeLib.dir/cmAddDependenciesCommand.cxx.o\u001b[0m\n",
            "[ 70%] \u001b[32mBuilding CXX object Source/CMakeFiles/CMakeLib.dir/cmAddExecutableCommand.cxx.o\u001b[0m\n",
            "[ 70%] \u001b[32mBuilding CXX object Source/CMakeFiles/CMakeLib.dir/cmAddLibraryCommand.cxx.o\u001b[0m\n",
            "[ 70%] \u001b[32mBuilding CXX object Source/CMakeFiles/CMakeLib.dir/cmAddSubDirectoryCommand.cxx.o\u001b[0m\n",
            "[ 70%] \u001b[32mBuilding CXX object Source/CMakeFiles/CMakeLib.dir/cmAddTestCommand.cxx.o\u001b[0m\n",
            "[ 70%] \u001b[32mBuilding CXX object Source/CMakeFiles/CMakeLib.dir/cmAuxSourceDirectoryCommand.cxx.o\u001b[0m\n",
            "[ 71%] \u001b[32mBuilding CXX object Source/CMakeFiles/CMakeLib.dir/cmBreakCommand.cxx.o\u001b[0m\n",
            "[ 71%] \u001b[32mBuilding CXX object Source/CMakeFiles/CMakeLib.dir/cmBuildCommand.cxx.o\u001b[0m\n",
            "[ 71%] \u001b[32mBuilding CXX object Source/CMakeFiles/CMakeLib.dir/cmBuildNameCommand.cxx.o\u001b[0m\n",
            "[ 71%] \u001b[32mBuilding CXX object Source/CMakeFiles/CMakeLib.dir/cmCMakeHostSystemInformationCommand.cxx.o\u001b[0m\n",
            "[ 71%] \u001b[32mBuilding CXX object Source/CMakeFiles/CMakeLib.dir/cmCMakeLanguageCommand.cxx.o\u001b[0m\n",
            "[ 71%] \u001b[32mBuilding CXX object Source/CMakeFiles/CMakeLib.dir/cmCMakeMinimumRequired.cxx.o\u001b[0m\n",
            "[ 71%] \u001b[32mBuilding CXX object Source/CMakeFiles/CMakeLib.dir/cmCMakePathCommand.cxx.o\u001b[0m\n",
            "[ 71%] \u001b[32mBuilding CXX object Source/CMakeFiles/CMakeLib.dir/cmCMakePolicyCommand.cxx.o\u001b[0m\n",
            "[ 71%] \u001b[32mBuilding CXX object Source/CMakeFiles/CMakeLib.dir/cmConditionEvaluator.cxx.o\u001b[0m\n",
            "[ 71%] \u001b[32mBuilding CXX object Source/CMakeFiles/CMakeLib.dir/cmConfigureFileCommand.cxx.o\u001b[0m\n",
            "[ 71%] \u001b[32mBuilding CXX object Source/CMakeFiles/CMakeLib.dir/cmContinueCommand.cxx.o\u001b[0m\n",
            "[ 72%] \u001b[32mBuilding CXX object Source/CMakeFiles/CMakeLib.dir/cmCoreTryCompile.cxx.o\u001b[0m\n",
            "[ 72%] \u001b[32mBuilding CXX object Source/CMakeFiles/CMakeLib.dir/cmCreateTestSourceList.cxx.o\u001b[0m\n",
            "[ 72%] \u001b[32mBuilding CXX object Source/CMakeFiles/CMakeLib.dir/cmDefinePropertyCommand.cxx.o\u001b[0m\n",
            "[ 72%] \u001b[32mBuilding CXX object Source/CMakeFiles/CMakeLib.dir/cmEnableLanguageCommand.cxx.o\u001b[0m\n",
            "[ 72%] \u001b[32mBuilding CXX object Source/CMakeFiles/CMakeLib.dir/cmEnableTestingCommand.cxx.o\u001b[0m\n",
            "[ 72%] \u001b[32mBuilding CXX object Source/CMakeFiles/CMakeLib.dir/cmExecProgramCommand.cxx.o\u001b[0m\n",
            "[ 72%] \u001b[32mBuilding CXX object Source/CMakeFiles/CMakeLib.dir/cmExecuteProcessCommand.cxx.o\u001b[0m\n",
            "[ 72%] \u001b[32mBuilding CXX object Source/CMakeFiles/CMakeLib.dir/cmExpandedCommandArgument.cxx.o\u001b[0m\n",
            "[ 72%] \u001b[32mBuilding CXX object Source/CMakeFiles/CMakeLib.dir/cmExportCommand.cxx.o\u001b[0m\n",
            "[ 72%] \u001b[32mBuilding CXX object Source/CMakeFiles/CMakeLib.dir/cmExportLibraryDependenciesCommand.cxx.o\u001b[0m\n",
            "[ 73%] \u001b[32mBuilding CXX object Source/CMakeFiles/CMakeLib.dir/cmFLTKWrapUICommand.cxx.o\u001b[0m\n",
            "[ 73%] \u001b[32mBuilding CXX object Source/CMakeFiles/CMakeLib.dir/cmFileCommand.cxx.o\u001b[0m\n",
            "[ 73%] \u001b[32mBuilding CXX object Source/CMakeFiles/CMakeLib.dir/cmFindBase.cxx.o\u001b[0m\n",
            "[ 73%] \u001b[32mBuilding CXX object Source/CMakeFiles/CMakeLib.dir/cmFindCommon.cxx.o\u001b[0m\n",
            "[ 73%] \u001b[32mBuilding CXX object Source/CMakeFiles/CMakeLib.dir/cmFindFileCommand.cxx.o\u001b[0m\n",
            "[ 73%] \u001b[32mBuilding CXX object Source/CMakeFiles/CMakeLib.dir/cmFindLibraryCommand.cxx.o\u001b[0m\n",
            "[ 73%] \u001b[32mBuilding CXX object Source/CMakeFiles/CMakeLib.dir/cmFindPackageCommand.cxx.o\u001b[0m\n",
            "[ 73%] \u001b[32mBuilding CXX object Source/CMakeFiles/CMakeLib.dir/cmFindPathCommand.cxx.o\u001b[0m\n",
            "[ 73%] \u001b[32mBuilding CXX object Source/CMakeFiles/CMakeLib.dir/cmFindProgramCommand.cxx.o\u001b[0m\n",
            "[ 73%] \u001b[32mBuilding CXX object Source/CMakeFiles/CMakeLib.dir/cmForEachCommand.cxx.o\u001b[0m\n",
            "[ 73%] \u001b[32mBuilding CXX object Source/CMakeFiles/CMakeLib.dir/cmFunctionBlocker.cxx.o\u001b[0m\n",
            "[ 74%] \u001b[32mBuilding CXX object Source/CMakeFiles/CMakeLib.dir/cmFunctionCommand.cxx.o\u001b[0m\n",
            "[ 74%] \u001b[32mBuilding CXX object Source/CMakeFiles/CMakeLib.dir/cmGetCMakePropertyCommand.cxx.o\u001b[0m\n",
            "[ 74%] \u001b[32mBuilding CXX object Source/CMakeFiles/CMakeLib.dir/cmGetDirectoryPropertyCommand.cxx.o\u001b[0m\n",
            "[ 74%] \u001b[32mBuilding CXX object Source/CMakeFiles/CMakeLib.dir/cmGetFilenameComponentCommand.cxx.o\u001b[0m\n",
            "[ 74%] \u001b[32mBuilding CXX object Source/CMakeFiles/CMakeLib.dir/cmGetPropertyCommand.cxx.o\u001b[0m\n",
            "[ 74%] \u001b[32mBuilding CXX object Source/CMakeFiles/CMakeLib.dir/cmGetSourceFilePropertyCommand.cxx.o\u001b[0m\n",
            "[ 74%] \u001b[32mBuilding CXX object Source/CMakeFiles/CMakeLib.dir/cmGetTargetPropertyCommand.cxx.o\u001b[0m\n",
            "[ 74%] \u001b[32mBuilding CXX object Source/CMakeFiles/CMakeLib.dir/cmGetTestPropertyCommand.cxx.o\u001b[0m\n",
            "[ 74%] \u001b[32mBuilding CXX object Source/CMakeFiles/CMakeLib.dir/cmHexFileConverter.cxx.o\u001b[0m\n",
            "[ 74%] \u001b[32mBuilding CXX object Source/CMakeFiles/CMakeLib.dir/cmIfCommand.cxx.o\u001b[0m\n",
            "[ 74%] \u001b[32mBuilding CXX object Source/CMakeFiles/CMakeLib.dir/cmIncludeCommand.cxx.o\u001b[0m\n",
            "[ 75%] \u001b[32mBuilding CXX object Source/CMakeFiles/CMakeLib.dir/cmIncludeDirectoryCommand.cxx.o\u001b[0m\n",
            "[ 75%] \u001b[32mBuilding CXX object Source/CMakeFiles/CMakeLib.dir/cmIncludeExternalMSProjectCommand.cxx.o\u001b[0m\n",
            "[ 75%] \u001b[32mBuilding CXX object Source/CMakeFiles/CMakeLib.dir/cmIncludeGuardCommand.cxx.o\u001b[0m\n",
            "[ 75%] \u001b[32mBuilding CXX object Source/CMakeFiles/CMakeLib.dir/cmIncludeRegularExpressionCommand.cxx.o\u001b[0m\n",
            "[ 75%] \u001b[32mBuilding CXX object Source/CMakeFiles/CMakeLib.dir/cmInstallCommand.cxx.o\u001b[0m\n",
            "[ 75%] \u001b[32mBuilding CXX object Source/CMakeFiles/CMakeLib.dir/cmInstallCommandArguments.cxx.o\u001b[0m\n",
            "[ 75%] \u001b[32mBuilding CXX object Source/CMakeFiles/CMakeLib.dir/cmInstallFilesCommand.cxx.o\u001b[0m\n",
            "[ 75%] \u001b[32mBuilding CXX object Source/CMakeFiles/CMakeLib.dir/cmInstallProgramsCommand.cxx.o\u001b[0m\n",
            "[ 75%] \u001b[32mBuilding CXX object Source/CMakeFiles/CMakeLib.dir/cmInstallTargetsCommand.cxx.o\u001b[0m\n",
            "[ 75%] \u001b[32mBuilding CXX object Source/CMakeFiles/CMakeLib.dir/cmLinkDirectoriesCommand.cxx.o\u001b[0m\n",
            "[ 75%] \u001b[32mBuilding CXX object Source/CMakeFiles/CMakeLib.dir/cmLinkLibrariesCommand.cxx.o\u001b[0m\n",
            "[ 76%] \u001b[32mBuilding CXX object Source/CMakeFiles/CMakeLib.dir/cmListCommand.cxx.o\u001b[0m\n",
            "[ 76%] \u001b[32mBuilding CXX object Source/CMakeFiles/CMakeLib.dir/cmLoadCacheCommand.cxx.o\u001b[0m\n",
            "[ 76%] \u001b[32mBuilding CXX object Source/CMakeFiles/CMakeLib.dir/cmLoadCommandCommand.cxx.o\u001b[0m\n",
            "[ 76%] \u001b[32mBuilding CXX object Source/CMakeFiles/CMakeLib.dir/cmMacroCommand.cxx.o\u001b[0m\n",
            "[ 76%] \u001b[32mBuilding CXX object Source/CMakeFiles/CMakeLib.dir/cmMakeDirectoryCommand.cxx.o\u001b[0m\n",
            "[ 76%] \u001b[32mBuilding CXX object Source/CMakeFiles/CMakeLib.dir/cmMarkAsAdvancedCommand.cxx.o\u001b[0m\n",
            "[ 76%] \u001b[32mBuilding CXX object Source/CMakeFiles/CMakeLib.dir/cmMathCommand.cxx.o\u001b[0m\n",
            "[ 76%] \u001b[32mBuilding CXX object Source/CMakeFiles/CMakeLib.dir/cmMessageCommand.cxx.o\u001b[0m\n",
            "[ 76%] \u001b[32mBuilding CXX object Source/CMakeFiles/CMakeLib.dir/cmOptionCommand.cxx.o\u001b[0m\n",
            "[ 76%] \u001b[32mBuilding CXX object Source/CMakeFiles/CMakeLib.dir/cmOutputRequiredFilesCommand.cxx.o\u001b[0m\n",
            "[ 77%] \u001b[32mBuilding CXX object Source/CMakeFiles/CMakeLib.dir/cmParseArgumentsCommand.cxx.o\u001b[0m\n",
            "[ 77%] \u001b[32mBuilding CXX object Source/CMakeFiles/CMakeLib.dir/cmPathLabel.cxx.o\u001b[0m\n",
            "[ 77%] \u001b[32mBuilding CXX object Source/CMakeFiles/CMakeLib.dir/cmProjectCommand.cxx.o\u001b[0m\n",
            "[ 77%] \u001b[32mBuilding CXX object Source/CMakeFiles/CMakeLib.dir/cmQTWrapCPPCommand.cxx.o\u001b[0m\n",
            "[ 77%] \u001b[32mBuilding CXX object Source/CMakeFiles/CMakeLib.dir/cmQTWrapUICommand.cxx.o\u001b[0m\n",
            "[ 77%] \u001b[32mBuilding CXX object Source/CMakeFiles/CMakeLib.dir/cmRemoveCommand.cxx.o\u001b[0m\n",
            "[ 77%] \u001b[32mBuilding CXX object Source/CMakeFiles/CMakeLib.dir/cmRemoveDefinitionsCommand.cxx.o\u001b[0m\n",
            "[ 77%] \u001b[32mBuilding CXX object Source/CMakeFiles/CMakeLib.dir/cmReturnCommand.cxx.o\u001b[0m\n",
            "[ 77%] \u001b[32mBuilding CXX object Source/CMakeFiles/CMakeLib.dir/cmSearchPath.cxx.o\u001b[0m\n",
            "[ 77%] \u001b[32mBuilding CXX object Source/CMakeFiles/CMakeLib.dir/cmSeparateArgumentsCommand.cxx.o\u001b[0m\n",
            "[ 77%] \u001b[32mBuilding CXX object Source/CMakeFiles/CMakeLib.dir/cmSetCommand.cxx.o\u001b[0m\n",
            "[ 78%] \u001b[32mBuilding CXX object Source/CMakeFiles/CMakeLib.dir/cmSetDirectoryPropertiesCommand.cxx.o\u001b[0m\n",
            "[ 78%] \u001b[32mBuilding CXX object Source/CMakeFiles/CMakeLib.dir/cmSetPropertyCommand.cxx.o\u001b[0m\n",
            "[ 78%] \u001b[32mBuilding CXX object Source/CMakeFiles/CMakeLib.dir/cmSetSourceFilesPropertiesCommand.cxx.o\u001b[0m\n",
            "[ 78%] \u001b[32mBuilding CXX object Source/CMakeFiles/CMakeLib.dir/cmSetTargetPropertiesCommand.cxx.o\u001b[0m\n",
            "[ 78%] \u001b[32mBuilding CXX object Source/CMakeFiles/CMakeLib.dir/cmSetTestsPropertiesCommand.cxx.o\u001b[0m\n",
            "[ 78%] \u001b[32mBuilding CXX object Source/CMakeFiles/CMakeLib.dir/cmSiteNameCommand.cxx.o\u001b[0m\n",
            "[ 78%] \u001b[32mBuilding CXX object Source/CMakeFiles/CMakeLib.dir/cmSourceGroupCommand.cxx.o\u001b[0m\n",
            "[ 78%] \u001b[32mBuilding CXX object Source/CMakeFiles/CMakeLib.dir/cmString.cxx.o\u001b[0m\n",
            "[ 78%] \u001b[32mBuilding CXX object Source/CMakeFiles/CMakeLib.dir/cmStringReplaceHelper.cxx.o\u001b[0m\n",
            "[ 78%] \u001b[32mBuilding CXX object Source/CMakeFiles/CMakeLib.dir/cmStringCommand.cxx.o\u001b[0m\n",
            "[ 78%] \u001b[32mBuilding CXX object Source/CMakeFiles/CMakeLib.dir/cmSubcommandTable.cxx.o\u001b[0m\n",
            "[ 79%] \u001b[32mBuilding CXX object Source/CMakeFiles/CMakeLib.dir/cmSubdirCommand.cxx.o\u001b[0m\n",
            "[ 79%] \u001b[32mBuilding CXX object Source/CMakeFiles/CMakeLib.dir/cmSubdirDependsCommand.cxx.o\u001b[0m\n",
            "[ 79%] \u001b[32mBuilding CXX object Source/CMakeFiles/CMakeLib.dir/cmTargetCompileDefinitionsCommand.cxx.o\u001b[0m\n",
            "[ 79%] \u001b[32mBuilding CXX object Source/CMakeFiles/CMakeLib.dir/cmTargetCompileFeaturesCommand.cxx.o\u001b[0m\n",
            "[ 79%] \u001b[32mBuilding CXX object Source/CMakeFiles/CMakeLib.dir/cmTargetCompileOptionsCommand.cxx.o\u001b[0m\n",
            "[ 79%] \u001b[32mBuilding CXX object Source/CMakeFiles/CMakeLib.dir/cmTargetIncludeDirectoriesCommand.cxx.o\u001b[0m\n",
            "[ 79%] \u001b[32mBuilding CXX object Source/CMakeFiles/CMakeLib.dir/cmTargetLinkOptionsCommand.cxx.o\u001b[0m\n",
            "[ 79%] \u001b[32mBuilding CXX object Source/CMakeFiles/CMakeLib.dir/cmTargetLinkDirectoriesCommand.cxx.o\u001b[0m\n",
            "[ 79%] \u001b[32mBuilding CXX object Source/CMakeFiles/CMakeLib.dir/cmTargetLinkLibrariesCommand.cxx.o\u001b[0m\n",
            "[ 79%] \u001b[32mBuilding CXX object Source/CMakeFiles/CMakeLib.dir/cmTargetPrecompileHeadersCommand.cxx.o\u001b[0m\n",
            "[ 80%] \u001b[32mBuilding CXX object Source/CMakeFiles/CMakeLib.dir/cmTargetPropCommandBase.cxx.o\u001b[0m\n",
            "[ 80%] \u001b[32mBuilding CXX object Source/CMakeFiles/CMakeLib.dir/cmTargetSourcesCommand.cxx.o\u001b[0m\n",
            "[ 80%] \u001b[32mBuilding CXX object Source/CMakeFiles/CMakeLib.dir/cmTimestamp.cxx.o\u001b[0m\n",
            "[ 80%] \u001b[32mBuilding CXX object Source/CMakeFiles/CMakeLib.dir/cmTryCompileCommand.cxx.o\u001b[0m\n",
            "[ 80%] \u001b[32mBuilding CXX object Source/CMakeFiles/CMakeLib.dir/cmTryRunCommand.cxx.o\u001b[0m\n",
            "[ 80%] \u001b[32mBuilding CXX object Source/CMakeFiles/CMakeLib.dir/cmUnsetCommand.cxx.o\u001b[0m\n",
            "[ 80%] \u001b[32mBuilding CXX object Source/CMakeFiles/CMakeLib.dir/cmUseMangledMesaCommand.cxx.o\u001b[0m\n",
            "[ 80%] \u001b[32mBuilding CXX object Source/CMakeFiles/CMakeLib.dir/cmUtilitySourceCommand.cxx.o\u001b[0m\n",
            "[ 80%] \u001b[32mBuilding CXX object Source/CMakeFiles/CMakeLib.dir/cmVariableRequiresCommand.cxx.o\u001b[0m\n",
            "[ 80%] \u001b[32mBuilding CXX object Source/CMakeFiles/CMakeLib.dir/cmVariableWatchCommand.cxx.o\u001b[0m\n",
            "[ 80%] \u001b[32mBuilding CXX object Source/CMakeFiles/CMakeLib.dir/cmWhileCommand.cxx.o\u001b[0m\n",
            "[ 81%] \u001b[32mBuilding CXX object Source/CMakeFiles/CMakeLib.dir/cmWriteFileCommand.cxx.o\u001b[0m\n",
            "[ 81%] \u001b[32mBuilding C object Source/CMakeFiles/CMakeLib.dir/cm_get_date.c.o\u001b[0m\n",
            "[ 81%] \u001b[32mBuilding C object Source/CMakeFiles/CMakeLib.dir/cm_utf8.c.o\u001b[0m\n",
            "[ 81%] \u001b[32mBuilding CXX object Source/CMakeFiles/CMakeLib.dir/cm_codecvt.cxx.o\u001b[0m\n",
            "[ 81%] \u001b[32mBuilding CXX object Source/CMakeFiles/CMakeLib.dir/cmDuration.cxx.o\u001b[0m\n",
            "[ 81%] \u001b[32mBuilding CXX object Source/CMakeFiles/CMakeLib.dir/bindexplib.cxx.o\u001b[0m\n",
            "[ 81%] \u001b[32mBuilding CXX object Source/CMakeFiles/CMakeLib.dir/cmGlobalWatcomWMakeGenerator.cxx.o\u001b[0m\n",
            "[ 81%] \u001b[32mBuilding CXX object Source/CMakeFiles/CMakeLib.dir/cmGlobalGhsMultiGenerator.cxx.o\u001b[0m\n",
            "[ 81%] \u001b[32mBuilding CXX object Source/CMakeFiles/CMakeLib.dir/cmLocalGhsMultiGenerator.cxx.o\u001b[0m\n",
            "[ 81%] \u001b[32mBuilding CXX object Source/CMakeFiles/CMakeLib.dir/cmGhsMultiTargetGenerator.cxx.o\u001b[0m\n",
            "[ 81%] \u001b[32mBuilding CXX object Source/CMakeFiles/CMakeLib.dir/cmGhsMultiGpj.cxx.o\u001b[0m\n",
            "[ 82%] \u001b[32mBuilding CXX object Source/CMakeFiles/CMakeLib.dir/cmScanDepFormat.cxx.o\u001b[0m\n",
            "[ 82%] \u001b[32mBuilding CXX object Source/CMakeFiles/CMakeLib.dir/cmGlobalNinjaGenerator.cxx.o\u001b[0m\n",
            "[ 82%] \u001b[32mBuilding CXX object Source/CMakeFiles/CMakeLib.dir/cmLocalNinjaGenerator.cxx.o\u001b[0m\n",
            "[ 82%] \u001b[32mBuilding CXX object Source/CMakeFiles/CMakeLib.dir/cmNinjaTargetGenerator.cxx.o\u001b[0m\n",
            "[ 82%] \u001b[32mBuilding CXX object Source/CMakeFiles/CMakeLib.dir/cmNinjaNormalTargetGenerator.cxx.o\u001b[0m\n",
            "[ 82%] \u001b[32mBuilding CXX object Source/CMakeFiles/CMakeLib.dir/cmNinjaUtilityTargetGenerator.cxx.o\u001b[0m\n",
            "[ 82%] \u001b[32mBuilding CXX object Source/CMakeFiles/CMakeLib.dir/cmNinjaLinkLineComputer.cxx.o\u001b[0m\n",
            "[ 82%] \u001b[32mBuilding CXX object Source/CMakeFiles/CMakeLib.dir/cmNinjaLinkLineDeviceComputer.cxx.o\u001b[0m\n",
            "[ 82%] \u001b[32m\u001b[1mLinking CXX static library libCMakeLib.a\u001b[0m\n",
            "[ 82%] Built target CMakeLib\n",
            "[ 82%] \u001b[32mBuilding CXX object Source/CMakeFiles/CTestLib.dir/cmCTest.cxx.o\u001b[0m\n",
            "[ 83%] \u001b[32mBuilding CXX object Source/CMakeFiles/CTestLib.dir/CTest/cmProcess.cxx.o\u001b[0m\n",
            "[ 83%] \u001b[32mBuilding CXX object Source/CMakeFiles/CTestLib.dir/CTest/cmCTestBinPacker.cxx.o\u001b[0m\n",
            "[ 83%] \u001b[32mBuilding CXX object Source/CMakeFiles/CTestLib.dir/CTest/cmCTestBuildAndTestHandler.cxx.o\u001b[0m\n",
            "[ 83%] \u001b[32mBuilding CXX object Source/CMakeFiles/CTestLib.dir/CTest/cmCTestBuildCommand.cxx.o\u001b[0m\n",
            "[ 83%] \u001b[32mBuilding CXX object Source/CMakeFiles/CTestLib.dir/CTest/cmCTestBuildHandler.cxx.o\u001b[0m\n",
            "[ 83%] \u001b[32mBuilding CXX object Source/CMakeFiles/CTestLib.dir/CTest/cmCTestConfigureCommand.cxx.o\u001b[0m\n",
            "[ 83%] \u001b[32mBuilding CXX object Source/CMakeFiles/CTestLib.dir/CTest/cmCTestConfigureHandler.cxx.o\u001b[0m\n",
            "[ 83%] \u001b[32mBuilding CXX object Source/CMakeFiles/CTestLib.dir/CTest/cmCTestCoverageCommand.cxx.o\u001b[0m\n",
            "[ 83%] \u001b[32mBuilding CXX object Source/CMakeFiles/CTestLib.dir/CTest/cmCTestCoverageHandler.cxx.o\u001b[0m\n",
            "[ 83%] \u001b[32mBuilding CXX object Source/CMakeFiles/CTestLib.dir/CTest/cmCTestCurl.cxx.o\u001b[0m\n",
            "[ 83%] \u001b[32mBuilding CXX object Source/CMakeFiles/CTestLib.dir/CTest/cmParseMumpsCoverage.cxx.o\u001b[0m\n",
            "[ 84%] \u001b[32mBuilding CXX object Source/CMakeFiles/CTestLib.dir/CTest/cmParseCacheCoverage.cxx.o\u001b[0m\n",
            "[ 84%] \u001b[32mBuilding CXX object Source/CMakeFiles/CTestLib.dir/CTest/cmParseGTMCoverage.cxx.o\u001b[0m\n",
            "[ 84%] \u001b[32mBuilding CXX object Source/CMakeFiles/CTestLib.dir/CTest/cmParseJacocoCoverage.cxx.o\u001b[0m\n",
            "[ 84%] \u001b[32mBuilding CXX object Source/CMakeFiles/CTestLib.dir/CTest/cmParseBlanketJSCoverage.cxx.o\u001b[0m\n",
            "[ 84%] \u001b[32mBuilding CXX object Source/CMakeFiles/CTestLib.dir/CTest/cmParsePHPCoverage.cxx.o\u001b[0m\n",
            "[ 84%] \u001b[32mBuilding CXX object Source/CMakeFiles/CTestLib.dir/CTest/cmParseCoberturaCoverage.cxx.o\u001b[0m\n",
            "[ 84%] \u001b[32mBuilding CXX object Source/CMakeFiles/CTestLib.dir/CTest/cmParseDelphiCoverage.cxx.o\u001b[0m\n",
            "[ 84%] \u001b[32mBuilding CXX object Source/CMakeFiles/CTestLib.dir/CTest/cmCTestEmptyBinaryDirectoryCommand.cxx.o\u001b[0m\n",
            "[ 84%] \u001b[32mBuilding CXX object Source/CMakeFiles/CTestLib.dir/CTest/cmCTestGenericHandler.cxx.o\u001b[0m\n",
            "[ 84%] \u001b[32mBuilding CXX object Source/CMakeFiles/CTestLib.dir/CTest/cmCTestHandlerCommand.cxx.o\u001b[0m\n",
            "[ 84%] \u001b[32mBuilding CXX object Source/CMakeFiles/CTestLib.dir/CTest/cmCTestResourceAllocator.cxx.o\u001b[0m\n",
            "[ 85%] \u001b[32mBuilding CXX object Source/CMakeFiles/CTestLib.dir/CTest/cmCTestResourceSpec.cxx.o\u001b[0m\n",
            "[ 85%] \u001b[32mBuilding CXX object Source/CMakeFiles/CTestLib.dir/CTest/cmCTestLaunch.cxx.o\u001b[0m\n",
            "[ 85%] \u001b[32mBuilding CXX object Source/CMakeFiles/CTestLib.dir/CTest/cmCTestLaunchReporter.cxx.o\u001b[0m\n",
            "[ 85%] \u001b[32mBuilding CXX object Source/CMakeFiles/CTestLib.dir/CTest/cmCTestMemCheckCommand.cxx.o\u001b[0m\n",
            "[ 85%] \u001b[32mBuilding CXX object Source/CMakeFiles/CTestLib.dir/CTest/cmCTestMemCheckHandler.cxx.o\u001b[0m\n",
            "[ 85%] \u001b[32mBuilding CXX object Source/CMakeFiles/CTestLib.dir/CTest/cmCTestMultiProcessHandler.cxx.o\u001b[0m\n",
            "[ 85%] \u001b[32mBuilding CXX object Source/CMakeFiles/CTestLib.dir/CTest/cmCTestReadCustomFilesCommand.cxx.o\u001b[0m\n",
            "[ 85%] \u001b[32mBuilding CXX object Source/CMakeFiles/CTestLib.dir/CTest/cmCTestResourceGroupsLexerHelper.cxx.o\u001b[0m\n",
            "[ 85%] \u001b[32mBuilding CXX object Source/CMakeFiles/CTestLib.dir/CTest/cmCTestRunScriptCommand.cxx.o\u001b[0m\n",
            "[ 85%] \u001b[32mBuilding CXX object Source/CMakeFiles/CTestLib.dir/CTest/cmCTestRunTest.cxx.o\u001b[0m\n",
            "[ 86%] \u001b[32mBuilding CXX object Source/CMakeFiles/CTestLib.dir/CTest/cmCTestScriptHandler.cxx.o\u001b[0m\n",
            "[ 86%] \u001b[32mBuilding CXX object Source/CMakeFiles/CTestLib.dir/CTest/cmCTestSleepCommand.cxx.o\u001b[0m\n",
            "[ 86%] \u001b[32mBuilding CXX object Source/CMakeFiles/CTestLib.dir/CTest/cmCTestStartCommand.cxx.o\u001b[0m\n",
            "[ 86%] \u001b[32mBuilding CXX object Source/CMakeFiles/CTestLib.dir/CTest/cmCTestSubmitCommand.cxx.o\u001b[0m\n",
            "[ 86%] \u001b[32mBuilding CXX object Source/CMakeFiles/CTestLib.dir/CTest/cmCTestSubmitHandler.cxx.o\u001b[0m\n",
            "[ 86%] \u001b[32mBuilding CXX object Source/CMakeFiles/CTestLib.dir/CTest/cmCTestTestCommand.cxx.o\u001b[0m\n",
            "[ 86%] \u001b[32mBuilding CXX object Source/CMakeFiles/CTestLib.dir/CTest/cmCTestTestHandler.cxx.o\u001b[0m\n",
            "[ 86%] \u001b[32mBuilding CXX object Source/CMakeFiles/CTestLib.dir/CTest/cmCTestUpdateCommand.cxx.o\u001b[0m\n",
            "[ 86%] \u001b[32mBuilding CXX object Source/CMakeFiles/CTestLib.dir/CTest/cmCTestUpdateHandler.cxx.o\u001b[0m\n",
            "[ 86%] \u001b[32mBuilding CXX object Source/CMakeFiles/CTestLib.dir/CTest/cmCTestUploadCommand.cxx.o\u001b[0m\n",
            "[ 86%] \u001b[32mBuilding CXX object Source/CMakeFiles/CTestLib.dir/CTest/cmCTestUploadHandler.cxx.o\u001b[0m\n",
            "[ 87%] \u001b[32mBuilding CXX object Source/CMakeFiles/CTestLib.dir/CTest/cmCTestVC.cxx.o\u001b[0m\n",
            "[ 87%] \u001b[32mBuilding CXX object Source/CMakeFiles/CTestLib.dir/CTest/cmCTestGlobalVC.cxx.o\u001b[0m\n",
            "[ 87%] \u001b[32mBuilding CXX object Source/CMakeFiles/CTestLib.dir/CTest/cmCTestCVS.cxx.o\u001b[0m\n",
            "[ 87%] \u001b[32mBuilding CXX object Source/CMakeFiles/CTestLib.dir/CTest/cmCTestSVN.cxx.o\u001b[0m\n",
            "[ 87%] \u001b[32mBuilding CXX object Source/CMakeFiles/CTestLib.dir/CTest/cmCTestBZR.cxx.o\u001b[0m\n",
            "[ 87%] \u001b[32mBuilding CXX object Source/CMakeFiles/CTestLib.dir/CTest/cmCTestGIT.cxx.o\u001b[0m\n",
            "[ 87%] \u001b[32mBuilding CXX object Source/CMakeFiles/CTestLib.dir/CTest/cmCTestHG.cxx.o\u001b[0m\n",
            "[ 87%] \u001b[32mBuilding CXX object Source/CMakeFiles/CTestLib.dir/CTest/cmCTestP4.cxx.o\u001b[0m\n",
            "[ 87%] \u001b[32mBuilding CXX object Source/CMakeFiles/CTestLib.dir/LexerParser/cmCTestResourceGroupsLexer.cxx.o\u001b[0m\n",
            "[ 87%] \u001b[32m\u001b[1mLinking CXX static library libCTestLib.a\u001b[0m\n",
            "[ 87%] Built target CTestLib\n",
            "[ 87%] \u001b[32mBuilding CXX object Source/CMakeFiles/cmake.dir/cmakemain.cxx.o\u001b[0m\n",
            "[ 87%] \u001b[32mBuilding CXX object Source/CMakeFiles/cmake.dir/cmcmd.cxx.o\u001b[0m\n",
            "[ 87%] \u001b[32m\u001b[1mLinking CXX executable ../bin/cmake\u001b[0m\n",
            "[ 87%] Built target cmake\n",
            "[ 87%] \u001b[32mBuilding CXX object Source/CMakeFiles/CPackLib.dir/CPack/cmCPackArchiveGenerator.cxx.o\u001b[0m\n",
            "[ 87%] \u001b[32mBuilding CXX object Source/CMakeFiles/CPackLib.dir/CPack/cmCPackComponentGroup.cxx.o\u001b[0m\n",
            "[ 87%] \u001b[32mBuilding CXX object Source/CMakeFiles/CPackLib.dir/CPack/cmCPackDebGenerator.cxx.o\u001b[0m\n",
            "[ 87%] \u001b[32mBuilding CXX object Source/CMakeFiles/CPackLib.dir/CPack/cmCPackExternalGenerator.cxx.o\u001b[0m\n",
            "[ 87%] \u001b[32mBuilding CXX object Source/CMakeFiles/CPackLib.dir/CPack/cmCPackGeneratorFactory.cxx.o\u001b[0m\n",
            "[ 87%] \u001b[32mBuilding CXX object Source/CMakeFiles/CPackLib.dir/CPack/cmCPackGenerator.cxx.o\u001b[0m\n",
            "[ 87%] \u001b[32mBuilding CXX object Source/CMakeFiles/CPackLib.dir/CPack/cmCPackLog.cxx.o\u001b[0m\n",
            "[ 87%] \u001b[32mBuilding CXX object Source/CMakeFiles/CPackLib.dir/CPack/cmCPackNSISGenerator.cxx.o\u001b[0m\n",
            "[ 88%] \u001b[32mBuilding CXX object Source/CMakeFiles/CPackLib.dir/CPack/cmCPackNuGetGenerator.cxx.o\u001b[0m\n",
            "[ 88%] \u001b[32mBuilding CXX object Source/CMakeFiles/CPackLib.dir/CPack/cmCPackSTGZGenerator.cxx.o\u001b[0m\n",
            "[ 88%] \u001b[32mBuilding CXX object Source/CMakeFiles/CPackLib.dir/CPack/IFW/cmCPackIFWCommon.cxx.o\u001b[0m\n",
            "[ 88%] \u001b[32mBuilding CXX object Source/CMakeFiles/CPackLib.dir/CPack/IFW/cmCPackIFWGenerator.cxx.o\u001b[0m\n",
            "[ 88%] \u001b[32mBuilding CXX object Source/CMakeFiles/CPackLib.dir/CPack/IFW/cmCPackIFWInstaller.cxx.o\u001b[0m\n",
            "[ 88%] \u001b[32mBuilding CXX object Source/CMakeFiles/CPackLib.dir/CPack/IFW/cmCPackIFWPackage.cxx.o\u001b[0m\n"
          ],
          "name": "stdout"
        }
      ]
    },
    {
      "cell_type": "markdown",
      "metadata": {
        "id": "Pf49WuDq6BNu"
      },
      "source": [
        "# OpenPose\n",
        "\n",
        "Source:  [CMU-Perceptual-Computing-Lab/openpose](https://github.com/CMU-Perceptual-Computing-Lab/openpose.git) to detect/track multi person poses on a given youtube video."
      ]
    },
    {
      "cell_type": "markdown",
      "metadata": {
        "id": "6XsfLDkm6V3l"
      },
      "source": [
        "## Install OpenPose\n"
      ]
    },
    {
      "cell_type": "code",
      "metadata": {
        "id": "QLAoMXYm3_Gy"
      },
      "source": [
        "# Install library\n",
        "\n",
        "# Basic\n",
        "! sudo apt-get --assume-yes update\n",
        "! sudo apt-get --assume-yes install build-essential\n",
        "# OpenCV\n",
        "! sudo apt-get --assume-yes install libopencv-dev\n",
        "# General dependencies\n",
        "! sudo apt-get --assume-yes install libatlas-base-dev libprotobuf-dev libleveldb-dev libsnappy-dev libhdf5-serial-dev protobuf-compiler\n",
        "! sudo apt-get --assume-yes install --no-install-recommends libboost-all-dev\n",
        "! sudo apt-get --assume-yes install libgflags-dev libgoogle-glog-dev liblmdb-dev\n",
        "# Python3 libs\n",
        "! sudo apt-get --assume-yes install python3-setuptools python3-dev build-essential\n",
        "! sudo apt-get --assume-yes install python3-pip\n",
        "! sudo -H pip3 install --upgrade numpy protobuf opencv-python\n",
        "# OpenCL Generic\n",
        "! sudo apt-get --assume-yes install opencl-headers ocl-icd-opencl-dev\n",
        "! sudo apt-get --assume-yes install libviennacl-dev\n",
        "\n",
        "# Clone Openpose\n",
        "## https://github.com/CMU-Perceptual-Computing-Lab/openpose/blob/master/doc/installation.md#cmake-command-line-configuration-ubuntu-only\n",
        "\n",
        "! git clone  --depth 1 -b \"$ver_openpose\" https://github.com/CMU-Perceptual-Computing-Lab/openpose.git\n",
        "! git clone https://github.com/CMU-Perceptual-Computing-Lab/openpose.git\n",
        "! cd openpose && mkdir build && cd build\n",
        "! cd openpose/build && cmake -DBUILD_PYTHON=ON .. \n",
        "! cd openpose/build && cmake .. -D DOWNLOAD_BODY_COCO_MODEL=ON\n",
        "! cd openpose/build && cmake .. -D DOWNLOAD_BODY_MPI_MODEL=ON"
      ],
      "execution_count": null,
      "outputs": []
    },
    {
      "cell_type": "code",
      "metadata": {
        "id": "APjFo_sg4reN"
      },
      "source": [
        "# Openpose Building\n",
        "! cd openpose/build && make -j`nproc`\n",
        "# Openpose Installing\n",
        "! cd openpose/build && make install"
      ],
      "execution_count": null,
      "outputs": []
    },
    {
      "cell_type": "code",
      "metadata": {
        "id": "PBomm9C4yqFY"
      },
      "source": [
        "! echo \"include /usr/local/lib\" >> /etc/ld.so.conf\n",
        "! ldconfig \n",
        "%ls /usr/local/python\n",
        "\n",
        "# Run and check the sample\n",
        "# The output analysis result is placed under \"openpose/output\" from the folder icon on the left menu of the Colab screen.\n",
        "! cd openpose && mkdir output && ./build/examples/openpose/openpose.bin --video examples/media/video.avi --display 0  --write_video ./output/openpose.avi"
      ],
      "execution_count": null,
      "outputs": []
    },
    {
      "cell_type": "markdown",
      "metadata": {
        "id": "8QSThD6-5sc8"
      },
      "source": [
        "## Detect poses on a test video\n",
        "\n",
        "We are going to detect poses on the following youtube video:"
      ]
    },
    {
      "cell_type": "code",
      "metadata": {
        "id": "ThBKmN2I41Bo",
        "colab": {
          "base_uri": "https://localhost:8080/",
          "height": 321
        },
        "outputId": "70283406-dc9e-4084-8b2c-7b4c6a96d9d0"
      },
      "source": [
        "from IPython.display import YouTubeVideo\n",
        "\n",
        "YOUTUBE_ID = 'aDpt1_W6xX0' \n",
        "YouTubeVideo(YOUTUBE_ID)"
      ],
      "execution_count": null,
      "outputs": [
        {
          "output_type": "execute_result",
          "data": {
            "text/html": [
              "\n",
              "        <iframe\n",
              "            width=\"400\"\n",
              "            height=\"300\"\n",
              "            src=\"https://www.youtube.com/embed/aDpt1_W6xX0\"\n",
              "            frameborder=\"0\"\n",
              "            allowfullscreen\n",
              "        ></iframe>\n",
              "        "
            ],
            "text/plain": [
              "<IPython.lib.display.YouTubeVideo at 0x7f9f4b52e390>"
            ],
            "image/jpeg": "[encoded data removed]"
          },
          "metadata": {
            "tags": []
          },
          "execution_count": 20
        }
      ]
    },
    {
      "cell_type": "markdown",
      "metadata": {
        "id": "pdKtga485nhv"
      },
      "source": [
        "Download the above youtube video, cut the first 5 seconds and do the pose detection on that 5 seconds:"
      ]
    },
    {
      "cell_type": "code",
      "metadata": {
        "id": "9CAPrsut5fDw"
      },
      "source": [
        "!rm -rf youtube.mp4\n",
        "# download the youtube with the given ID\n",
        "!youtube-dl -f 'bestvideo[ext=mp4]' --output \"youtube.%(ext)s\" https://www.youtube.com/watch?v=$YOUTUBE_ID\n",
        "# cut the first 5 seconds\n",
        "!ffmpeg -y -loglevel info -i youtube.mp4 -t 5 video.mp4\n",
        "# detect poses on the these 5 seconds\n",
        "!rm openpose.avi\n",
        "!cd openpose && ./build/examples/openpose/openpose.bin --video ../video.mp4 --write_json ./output/ --display 0  --write_video ../openpose.avi\n",
        "# convert the result into MP4\n",
        "!ffmpeg -y -loglevel info -i openpose.avi output.mp4"
      ],
      "execution_count": null,
      "outputs": []
    },
    {
      "cell_type": "markdown",
      "metadata": {
        "id": "8ZZjSWwh5j_W"
      },
      "source": [
        "### Result visualization frame"
      ]
    },
    {
      "cell_type": "code",
      "metadata": {
        "id": "DlWbXY-75hGG"
      },
      "source": [
        "def show_local_mp4_video(file_name, width=640, height=480):\n",
        "  import io\n",
        "  import base64\n",
        "  from IPython.display import HTML\n",
        "  video_encoded = base64.b64encode(io.open(file_name, 'rb').read())\n",
        "  return HTML(data='''<video width=\"{0}\" height=\"{1}\" alt=\"test\" controls>\n",
        "                        <source src=\"data:video/mp4;base64,{2}\" type=\"video/mp4\" />\n",
        "                      </video>'''.format(width, height, video_encoded.decode('ascii')))\n",
        "\n",
        "show_local_mp4_video('youtube.mp4', width=960, height=720)"
      ],
      "execution_count": null,
      "outputs": []
    },
    {
      "cell_type": "markdown",
      "metadata": {
        "id": "_E2uPWbn7mUf"
      },
      "source": [
        "# <img class=\"emoji\" alt=\"basketabll\" height=\"20\" width=\"20\" src=\"https://github.githubassets.com/images/icons/emoji/unicode/1f3c0.png\"> Analyze basketball shots and shooting pose with machine learning!"
      ]
    },
    {
      "cell_type": "markdown",
      "metadata": {
        "id": "bQjd-0988uVt"
      },
      "source": [
        "## Get a copy\n",
        "Get a copy of this project by simply running the git clone command."
      ]
    },
    {
      "cell_type": "code",
      "metadata": {
        "id": "RNNBUmCDfXeo",
        "colab": {
          "base_uri": "https://localhost:8080/"
        },
        "outputId": "b671c42b-c081-4cb8-ea48-5621c7999ba0"
      },
      "source": [
        "# Original repository\n",
        "#! git clone https://github.com/chonyy/AI-basketball-analysis.git\n",
        "\n",
        "# Modified version \n",
        "! git clone https://github.com/hardik0/AI-basketball-analysis-on-google-colab\n",
        "%cd AI-basketball-analysis-on-google-colab"
      ],
      "execution_count": null,
      "outputs": [
        {
          "output_type": "stream",
          "text": [
            "Cloning into 'AI-basketball-analysis-on-google-colab'...\n",
            "remote: Enumerating objects: 854, done.\u001b[K\n",
            "remote: Counting objects: 100% (228/228), done.\u001b[K\n",
            "remote: Compressing objects: 100% (179/179), done.\u001b[K\n",
            "remote: Total 854 (delta 108), reused 133 (delta 44), pack-reused 626\u001b[K\n",
            "Receiving objects: 100% (854/854), 294.93 MiB | 34.53 MiB/s, done.\n",
            "Resolving deltas: 100% (331/331), done.\n",
            "Checking out files: 100% (99/99), done.\n",
            "/content/AI-basketball-analysis-on-google-colab\n"
          ],
          "name": "stdout"
        }
      ]
    },
    {
      "cell_type": "markdown",
      "metadata": {
        "id": "xec4W35f828n"
      },
      "source": [
        "## Prerequisites\n",
        "Before running the project, we have to install all the dependencies from requirements.txt"
      ]
    },
    {
      "cell_type": "code",
      "metadata": {
        "id": "u8sfhGUKfdA8",
        "colab": {
          "base_uri": "https://localhost:8080/",
          "height": 1000
        },
        "outputId": "abd91e62-245a-469c-a9eb-eee533e358ea"
      },
      "source": [
        "! pip install -r colab_requirements.txt"
      ],
      "execution_count": null,
      "outputs": [
        {
          "output_type": "stream",
          "text": [
            "Collecting flask==1.0.2\n",
            "  Downloading Flask-1.0.2-py2.py3-none-any.whl (91 kB)\n",
            "\u001b[?25l\r\u001b[K     |███▋                            | 10 kB 29.5 MB/s eta 0:00:01\r\u001b[K     |███████▏                        | 20 kB 32.1 MB/s eta 0:00:01\r\u001b[K     |██████████▊                     | 30 kB 21.4 MB/s eta 0:00:01\r\u001b[K     |██████████████▍                 | 40 kB 17.8 MB/s eta 0:00:01\r\u001b[K     |██████████████████              | 51 kB 10.1 MB/s eta 0:00:01\r\u001b[K     |█████████████████████▌          | 61 kB 10.4 MB/s eta 0:00:01\r\u001b[K     |█████████████████████████       | 71 kB 10.0 MB/s eta 0:00:01\r\u001b[K     |████████████████████████████▊   | 81 kB 11.2 MB/s eta 0:00:01\r\u001b[K     |████████████████████████████████| 91 kB 5.4 MB/s \n",
            "\u001b[?25hCollecting tensorflow-gpu==2.2.0\n",
            "  Downloading tensorflow_gpu-2.2.0-cp37-cp37m-manylinux2010_x86_64.whl (516.2 MB)\n",
            "\u001b[K     |████████████████████████████████| 516.2 MB 1.9 kB/s \n",
            "\u001b[?25hCollecting numpy==1.19.0\n",
            "  Downloading numpy-1.19.0-cp37-cp37m-manylinux2010_x86_64.whl (14.6 MB)\n",
            "\u001b[K     |████████████████████████████████| 14.6 MB 68 kB/s \n",
            "\u001b[?25hCollecting opencv-python-headless\n",
            "  Downloading opencv_python_headless-4.5.3.56-cp37-cp37m-manylinux2014_x86_64.whl (37.1 MB)\n",
            "\u001b[K     |████████████████████████████████| 37.1 MB 43 kB/s \n",
            "\u001b[?25hRequirement already satisfied: werkzeug==1.0.1 in /usr/local/lib/python3.7/dist-packages (from -r colab_requirements.txt (line 6)) (1.0.1)\n",
            "Requirement already satisfied: matplotlib==3.2.2 in /usr/local/lib/python3.7/dist-packages (from -r colab_requirements.txt (line 7)) (3.2.2)\n",
            "Collecting gunicorn==20.0.4\n",
            "  Downloading gunicorn-20.0.4-py2.py3-none-any.whl (77 kB)\n",
            "\u001b[K     |████████████████████████████████| 77 kB 8.8 MB/s \n",
            "\u001b[?25hCollecting Pillow==7.0.0\n",
            "  Downloading Pillow-7.0.0-cp37-cp37m-manylinux1_x86_64.whl (2.1 MB)\n",
            "\u001b[K     |████████████████████████████████| 2.1 MB 57.5 MB/s \n",
            "\u001b[?25hCollecting image\n",
            "  Downloading image-1.5.33.tar.gz (15 kB)\n",
            "Requirement already satisfied: scipy in /usr/local/lib/python3.7/dist-packages (from -r colab_requirements.txt (line 11)) (1.4.1)\n",
            "Requirement already satisfied: Jinja2>=2.10 in /usr/local/lib/python3.7/dist-packages (from flask==1.0.2->-r colab_requirements.txt (line 2)) (2.11.3)\n",
            "Requirement already satisfied: click>=5.1 in /usr/local/lib/python3.7/dist-packages (from flask==1.0.2->-r colab_requirements.txt (line 2)) (7.1.2)\n",
            "Requirement already satisfied: itsdangerous>=0.24 in /usr/local/lib/python3.7/dist-packages (from flask==1.0.2->-r colab_requirements.txt (line 2)) (1.1.0)\n",
            "Requirement already satisfied: six>=1.12.0 in /usr/local/lib/python3.7/dist-packages (from tensorflow-gpu==2.2.0->-r colab_requirements.txt (line 3)) (1.15.0)\n",
            "Requirement already satisfied: wheel>=0.26 in /usr/local/lib/python3.7/dist-packages (from tensorflow-gpu==2.2.0->-r colab_requirements.txt (line 3)) (0.37.0)\n",
            "Collecting tensorboard<2.3.0,>=2.2.0\n",
            "  Downloading tensorboard-2.2.2-py3-none-any.whl (3.0 MB)\n",
            "\u001b[K     |████████████████████████████████| 3.0 MB 22.0 MB/s \n",
            "\u001b[?25hRequirement already satisfied: termcolor>=1.1.0 in /usr/local/lib/python3.7/dist-packages (from tensorflow-gpu==2.2.0->-r colab_requirements.txt (line 3)) (1.1.0)\n",
            "Collecting h5py<2.11.0,>=2.10.0\n",
            "  Downloading h5py-2.10.0-cp37-cp37m-manylinux1_x86_64.whl (2.9 MB)\n",
            "\u001b[K     |████████████████████████████████| 2.9 MB 57.0 MB/s \n",
            "\u001b[?25hRequirement already satisfied: astunparse==1.6.3 in /usr/local/lib/python3.7/dist-packages (from tensorflow-gpu==2.2.0->-r colab_requirements.txt (line 3)) (1.6.3)\n",
            "Requirement already satisfied: google-pasta>=0.1.8 in /usr/local/lib/python3.7/dist-packages (from tensorflow-gpu==2.2.0->-r colab_requirements.txt (line 3)) (0.2.0)\n",
            "Requirement already satisfied: keras-preprocessing>=1.1.0 in /usr/local/lib/python3.7/dist-packages (from tensorflow-gpu==2.2.0->-r colab_requirements.txt (line 3)) (1.1.2)\n",
            "Requirement already satisfied: opt-einsum>=2.3.2 in /usr/local/lib/python3.7/dist-packages (from tensorflow-gpu==2.2.0->-r colab_requirements.txt (line 3)) (3.3.0)\n",
            "Collecting tensorflow-estimator<2.3.0,>=2.2.0\n",
            "  Downloading tensorflow_estimator-2.2.0-py2.py3-none-any.whl (454 kB)\n",
            "\u001b[K     |████████████████████████████████| 454 kB 60.5 MB/s \n",
            "\u001b[?25hCollecting gast==0.3.3\n",
            "  Downloading gast-0.3.3-py2.py3-none-any.whl (9.7 kB)\n",
            "Requirement already satisfied: absl-py>=0.7.0 in /usr/local/lib/python3.7/dist-packages (from tensorflow-gpu==2.2.0->-r colab_requirements.txt (line 3)) (0.12.0)\n",
            "Requirement already satisfied: grpcio>=1.8.6 in /usr/local/lib/python3.7/dist-packages (from tensorflow-gpu==2.2.0->-r colab_requirements.txt (line 3)) (1.34.1)\n",
            "Requirement already satisfied: protobuf>=3.8.0 in /usr/local/lib/python3.7/dist-packages (from tensorflow-gpu==2.2.0->-r colab_requirements.txt (line 3)) (3.17.3)\n",
            "Requirement already satisfied: wrapt>=1.11.1 in /usr/local/lib/python3.7/dist-packages (from tensorflow-gpu==2.2.0->-r colab_requirements.txt (line 3)) (1.12.1)\n",
            "Requirement already satisfied: python-dateutil>=2.1 in /usr/local/lib/python3.7/dist-packages (from matplotlib==3.2.2->-r colab_requirements.txt (line 7)) (2.8.2)\n",
            "Requirement already satisfied: pyparsing!=2.0.4,!=2.1.2,!=2.1.6,>=2.0.1 in /usr/local/lib/python3.7/dist-packages (from matplotlib==3.2.2->-r colab_requirements.txt (line 7)) (2.4.7)\n",
            "Requirement already satisfied: cycler>=0.10 in /usr/local/lib/python3.7/dist-packages (from matplotlib==3.2.2->-r colab_requirements.txt (line 7)) (0.10.0)\n",
            "Requirement already satisfied: kiwisolver>=1.0.1 in /usr/local/lib/python3.7/dist-packages (from matplotlib==3.2.2->-r colab_requirements.txt (line 7)) (1.3.1)\n",
            "Requirement already satisfied: setuptools>=3.0 in /usr/local/lib/python3.7/dist-packages (from gunicorn==20.0.4->-r colab_requirements.txt (line 8)) (57.2.0)\n",
            "Requirement already satisfied: MarkupSafe>=0.23 in /usr/local/lib/python3.7/dist-packages (from Jinja2>=2.10->flask==1.0.2->-r colab_requirements.txt (line 2)) (2.0.1)\n",
            "Requirement already satisfied: tensorboard-plugin-wit>=1.6.0 in /usr/local/lib/python3.7/dist-packages (from tensorboard<2.3.0,>=2.2.0->tensorflow-gpu==2.2.0->-r colab_requirements.txt (line 3)) (1.8.0)\n",
            "Requirement already satisfied: google-auth<2,>=1.6.3 in /usr/local/lib/python3.7/dist-packages (from tensorboard<2.3.0,>=2.2.0->tensorflow-gpu==2.2.0->-r colab_requirements.txt (line 3)) (1.34.0)\n",
            "Requirement already satisfied: google-auth-oauthlib<0.5,>=0.4.1 in /usr/local/lib/python3.7/dist-packages (from tensorboard<2.3.0,>=2.2.0->tensorflow-gpu==2.2.0->-r colab_requirements.txt (line 3)) (0.4.5)\n",
            "Requirement already satisfied: requests<3,>=2.21.0 in /usr/local/lib/python3.7/dist-packages (from tensorboard<2.3.0,>=2.2.0->tensorflow-gpu==2.2.0->-r colab_requirements.txt (line 3)) (2.23.0)\n",
            "Requirement already satisfied: markdown>=2.6.8 in /usr/local/lib/python3.7/dist-packages (from tensorboard<2.3.0,>=2.2.0->tensorflow-gpu==2.2.0->-r colab_requirements.txt (line 3)) (3.3.4)\n",
            "Requirement already satisfied: rsa<5,>=3.1.4 in /usr/local/lib/python3.7/dist-packages (from google-auth<2,>=1.6.3->tensorboard<2.3.0,>=2.2.0->tensorflow-gpu==2.2.0->-r colab_requirements.txt (line 3)) (4.7.2)\n",
            "Requirement already satisfied: pyasn1-modules>=0.2.1 in /usr/local/lib/python3.7/dist-packages (from google-auth<2,>=1.6.3->tensorboard<2.3.0,>=2.2.0->tensorflow-gpu==2.2.0->-r colab_requirements.txt (line 3)) (0.2.8)\n",
            "Requirement already satisfied: cachetools<5.0,>=2.0.0 in /usr/local/lib/python3.7/dist-packages (from google-auth<2,>=1.6.3->tensorboard<2.3.0,>=2.2.0->tensorflow-gpu==2.2.0->-r colab_requirements.txt (line 3)) (4.2.2)\n",
            "Requirement already satisfied: requests-oauthlib>=0.7.0 in /usr/local/lib/python3.7/dist-packages (from google-auth-oauthlib<0.5,>=0.4.1->tensorboard<2.3.0,>=2.2.0->tensorflow-gpu==2.2.0->-r colab_requirements.txt (line 3)) (1.3.0)\n",
            "Requirement already satisfied: importlib-metadata in /usr/local/lib/python3.7/dist-packages (from markdown>=2.6.8->tensorboard<2.3.0,>=2.2.0->tensorflow-gpu==2.2.0->-r colab_requirements.txt (line 3)) (4.6.3)\n",
            "Requirement already satisfied: pyasn1<0.5.0,>=0.4.6 in /usr/local/lib/python3.7/dist-packages (from pyasn1-modules>=0.2.1->google-auth<2,>=1.6.3->tensorboard<2.3.0,>=2.2.0->tensorflow-gpu==2.2.0->-r colab_requirements.txt (line 3)) (0.4.8)\n",
            "Requirement already satisfied: urllib3!=1.25.0,!=1.25.1,<1.26,>=1.21.1 in /usr/local/lib/python3.7/dist-packages (from requests<3,>=2.21.0->tensorboard<2.3.0,>=2.2.0->tensorflow-gpu==2.2.0->-r colab_requirements.txt (line 3)) (1.24.3)\n",
            "Requirement already satisfied: certifi>=2017.4.17 in /usr/local/lib/python3.7/dist-packages (from requests<3,>=2.21.0->tensorboard<2.3.0,>=2.2.0->tensorflow-gpu==2.2.0->-r colab_requirements.txt (line 3)) (2021.5.30)\n",
            "Requirement already satisfied: idna<3,>=2.5 in /usr/local/lib/python3.7/dist-packages (from requests<3,>=2.21.0->tensorboard<2.3.0,>=2.2.0->tensorflow-gpu==2.2.0->-r colab_requirements.txt (line 3)) (2.10)\n",
            "Requirement already satisfied: chardet<4,>=3.0.2 in /usr/local/lib/python3.7/dist-packages (from requests<3,>=2.21.0->tensorboard<2.3.0,>=2.2.0->tensorflow-gpu==2.2.0->-r colab_requirements.txt (line 3)) (3.0.4)\n",
            "Requirement already satisfied: oauthlib>=3.0.0 in /usr/local/lib/python3.7/dist-packages (from requests-oauthlib>=0.7.0->google-auth-oauthlib<0.5,>=0.4.1->tensorboard<2.3.0,>=2.2.0->tensorflow-gpu==2.2.0->-r colab_requirements.txt (line 3)) (3.1.1)\n",
            "Collecting django\n",
            "  Downloading Django-3.2.6-py3-none-any.whl (7.9 MB)\n",
            "\u001b[K     |████████████████████████████████| 7.9 MB 15.7 MB/s \n",
            "\u001b[?25hCollecting asgiref<4,>=3.3.2\n",
            "  Downloading asgiref-3.4.1-py3-none-any.whl (25 kB)\n",
            "Requirement already satisfied: sqlparse>=0.2.2 in /usr/local/lib/python3.7/dist-packages (from django->image->-r colab_requirements.txt (line 10)) (0.4.1)\n",
            "Requirement already satisfied: pytz in /usr/local/lib/python3.7/dist-packages (from django->image->-r colab_requirements.txt (line 10)) (2018.9)\n",
            "Requirement already satisfied: typing-extensions in /usr/local/lib/python3.7/dist-packages (from asgiref<4,>=3.3.2->django->image->-r colab_requirements.txt (line 10)) (3.7.4.3)\n",
            "Requirement already satisfied: zipp>=0.5 in /usr/local/lib/python3.7/dist-packages (from importlib-metadata->markdown>=2.6.8->tensorboard<2.3.0,>=2.2.0->tensorflow-gpu==2.2.0->-r colab_requirements.txt (line 3)) (3.5.0)\n",
            "Building wheels for collected packages: image\n",
            "  Building wheel for image (setup.py) ... \u001b[?25l\u001b[?25hdone\n",
            "  Created wheel for image: filename=image-1.5.33-py2.py3-none-any.whl size=19494 sha256=88872eb425b6ea53282e4fed38c4fdd83f0040fad7aa384ce61fff3187fc2fe3\n",
            "  Stored in directory: /root/.cache/pip/wheels/56/88/e6/897194cfe8c08a8b9afd881d3bf53d102e13fa39607d721383\n",
            "Successfully built image\n",
            "Installing collected packages: numpy, asgiref, tensorflow-estimator, tensorboard, Pillow, h5py, gast, django, tensorflow-gpu, opencv-python-headless, image, gunicorn, flask\n",
            "  Attempting uninstall: numpy\n",
            "    Found existing installation: numpy 1.21.1\n",
            "    Uninstalling numpy-1.21.1:\n",
            "      Successfully uninstalled numpy-1.21.1\n",
            "  Attempting uninstall: tensorflow-estimator\n",
            "    Found existing installation: tensorflow-estimator 2.5.0\n",
            "    Uninstalling tensorflow-estimator-2.5.0:\n",
            "      Successfully uninstalled tensorflow-estimator-2.5.0\n",
            "  Attempting uninstall: tensorboard\n",
            "    Found existing installation: tensorboard 2.5.0\n",
            "    Uninstalling tensorboard-2.5.0:\n",
            "      Successfully uninstalled tensorboard-2.5.0\n",
            "  Attempting uninstall: Pillow\n",
            "    Found existing installation: Pillow 7.1.2\n",
            "    Uninstalling Pillow-7.1.2:\n",
            "      Successfully uninstalled Pillow-7.1.2\n",
            "  Attempting uninstall: h5py\n",
            "    Found existing installation: h5py 3.1.0\n",
            "    Uninstalling h5py-3.1.0:\n",
            "      Successfully uninstalled h5py-3.1.0\n",
            "  Attempting uninstall: gast\n",
            "    Found existing installation: gast 0.4.0\n",
            "    Uninstalling gast-0.4.0:\n",
            "      Successfully uninstalled gast-0.4.0\n",
            "  Attempting uninstall: flask\n",
            "    Found existing installation: Flask 1.1.4\n",
            "    Uninstalling Flask-1.1.4:\n",
            "      Successfully uninstalled Flask-1.1.4\n",
            "\u001b[31mERROR: pip's dependency resolver does not currently take into account all the packages that are installed. This behaviour is the source of the following dependency conflicts.\n",
            "tensorflow 2.5.0 requires gast==0.4.0, but you have gast 0.3.3 which is incompatible.\n",
            "tensorflow 2.5.0 requires h5py~=3.1.0, but you have h5py 2.10.0 which is incompatible.\n",
            "tensorflow 2.5.0 requires numpy~=1.19.2, but you have numpy 1.19.0 which is incompatible.\n",
            "tensorflow 2.5.0 requires tensorboard~=2.5, but you have tensorboard 2.2.2 which is incompatible.\n",
            "tensorflow 2.5.0 requires tensorflow-estimator<2.6.0,>=2.5.0rc0, but you have tensorflow-estimator 2.2.0 which is incompatible.\n",
            "datascience 0.10.6 requires folium==0.2.1, but you have folium 0.8.3 which is incompatible.\n",
            "bokeh 2.3.3 requires pillow>=7.1.0, but you have pillow 7.0.0 which is incompatible.\n",
            "albumentations 0.1.12 requires imgaug<0.2.7,>=0.2.5, but you have imgaug 0.2.9 which is incompatible.\u001b[0m\n",
            "Successfully installed Pillow-7.0.0 asgiref-3.4.1 django-3.2.6 flask-1.0.2 gast-0.3.3 gunicorn-20.0.4 h5py-2.10.0 image-1.5.33 numpy-1.19.0 opencv-python-headless-4.5.3.56 tensorboard-2.2.2 tensorflow-estimator-2.2.0 tensorflow-gpu-2.2.0\n"
          ],
          "name": "stdout"
        },
        {
          "output_type": "display_data",
          "data": {
            "application/vnd.colab-display-data+json": {
              "pip_warning": {
                "packages": [
                  "PIL",
                  "numpy"
                ]
              }
            }
          },
          "metadata": {
            "tags": []
          }
        }
      ]
    },
    {
      "cell_type": "markdown",
      "metadata": {
        "id": "9_dZivHKMpTb"
      },
      "source": [
        "You must restart the runtime"
      ]
    },
    {
      "cell_type": "code",
      "metadata": {
        "id": "xz_TJD1MgEWR",
        "colab": {
          "base_uri": "https://localhost:8080/"
        },
        "outputId": "b3944829-be75-4749-9cf1-bd2955859a01"
      },
      "source": [
        "%cd AI-basketball-analysis-on-google-colab"
      ],
      "execution_count": null,
      "outputs": [
        {
          "output_type": "stream",
          "text": [
            "[Errno 2] No such file or directory: 'AI-basketball-analysis-on-google-colab'\n",
            "/content/AI-basketball-analysis-on-google-colab\n"
          ],
          "name": "stdout"
        }
      ]
    },
    {
      "cell_type": "markdown",
      "metadata": {
        "id": "pXE9Y0u3_CiJ"
      },
      "source": [
        "## Hosting"
      ]
    },
    {
      "cell_type": "code",
      "metadata": {
        "id": "NVLun-hws19m",
        "colab": {
          "base_uri": "https://localhost:8080/"
        },
        "outputId": "acf5dfa5-a80f-4b65-c557-b2eab7496b50"
      },
      "source": [
        "# Download ngrok for tunneling.\n",
        "!if [ ! -f ./ngrok ]; then \\\n",
        " wget https://bin.equinox.io/c/4VmDzA7iaHb/ngrok-stable-linux-amd64.zip; \\\n",
        " unzip -o ngrok-stable-linux-amd64.zip; \\\n",
        " fi"
      ],
      "execution_count": null,
      "outputs": [
        {
          "output_type": "stream",
          "text": [
            "--2021-08-13 20:35:45--  https://bin.equinox.io/c/4VmDzA7iaHb/ngrok-stable-linux-amd64.zip\n",
            "Resolving bin.equinox.io (bin.equinox.io)... 44.195.251.4, 54.174.143.90, 35.153.244.194, ...\n",
            "Connecting to bin.equinox.io (bin.equinox.io)|44.195.251.4|:443... connected.\n",
            "HTTP request sent, awaiting response... 200 OK\n",
            "Length: 13832437 (13M) [application/octet-stream]\n",
            "Saving to: ‘ngrok-stable-linux-amd64.zip’\n",
            "\n",
            "ngrok-stable-linux- 100%[===================>]  13.19M  19.5MB/s    in 0.7s    \n",
            "\n",
            "2021-08-13 20:35:46 (19.5 MB/s) - ‘ngrok-stable-linux-amd64.zip’ saved [13832437/13832437]\n",
            "\n",
            "Archive:  ngrok-stable-linux-amd64.zip\n",
            "  inflating: ngrok                   \n"
          ],
          "name": "stdout"
        }
      ]
    },
    {
      "cell_type": "code",
      "metadata": {
        "id": "7fLY0iocs3-l"
      },
      "source": [
        "# Then start a mini web server.\n",
        "port = 5000\n",
        "!pkill ngrok\n",
        "!kill $(ps x | grep -v grep | grep http.server | awk '{print $1}') 2>/dev/null\n",
        "\n",
        "get_ipython().system_raw(\n",
        "    'python app.py && python3 -m http.server {} &'\n",
        "    .format(port)\n",
        ")\n",
        "\n",
        "# And, forward the port using ngrok.\n",
        "get_ipython().system_raw('./ngrok http {} &'.format(port))"
      ],
      "execution_count": null,
      "outputs": []
    },
    {
      "cell_type": "markdown",
      "metadata": {
        "id": "u77y4Iu-tRkp"
      },
      "source": [
        "**Port forwarding**\n",
        "\n",
        "Via a `ngrok` tunnel from the local machine to the internet."
      ]
    },
    {
      "cell_type": "code",
      "metadata": {
        "id": "hydof65utmI7",
        "colab": {
          "base_uri": "https://localhost:8080/",
          "height": 35
        },
        "outputId": "9cb09899-3273-4ea3-efa2-9f961fba5517"
      },
      "source": [
        "# Get the public address from localhost:4040 (ngrok's web interface).\n",
        "import time, urllib, json\n",
        "time.sleep(1)  # Give ngrok time to startup.\n",
        "ngrok_data = json.load(\n",
        "    urllib.request.urlopen('http://localhost:4040/api/tunnels'))\n",
        "ngrok_data['tunnels'][0]['public_url']"
      ],
      "execution_count": null,
      "outputs": [
        {
          "output_type": "execute_result",
          "data": {
            "application/vnd.google.colaboratory.intrinsic+json": {
              "type": "string"
            },
            "text/plain": [
              "'https://4dd41b13eb26.ngrok.io'"
            ]
          },
          "metadata": {
            "tags": []
          },
          "execution_count": 22
        }
      ]
    },
    {
      "cell_type": "code",
      "metadata": {
        "id": "eCOTN5wSvTns",
        "colab": {
          "base_uri": "https://localhost:8080/",
          "height": 421
        },
        "outputId": "17979c9a-6a51-499d-e3be-b0175e1457cc"
      },
      "source": [
        "# You can connect to this external address using your mobile phone!\n",
        "\n",
        "import qrcode\n",
        "qrcode.make(ngrok_data['tunnels'][0]['public_url'])"
      ],
      "execution_count": null,
      "outputs": [
        {
          "output_type": "stream",
          "text": [
            "\u001b[?25l\r\u001b[K     |███████▋                        | 10 kB 29.2 MB/s eta 0:00:01\r\u001b[K     |███████████████▎                | 20 kB 19.5 MB/s eta 0:00:01\r\u001b[K     |██████████████████████▉         | 30 kB 15.0 MB/s eta 0:00:01\r\u001b[K     |██████████████████████████████▌ | 40 kB 13.6 MB/s eta 0:00:01\r\u001b[K     |████████████████████████████████| 43 kB 1.1 MB/s \n",
            "\u001b[?25h  Building wheel for qrcode (setup.py) ... \u001b[?25l\u001b[?25hdone\n"
          ],
          "name": "stdout"
        },
        {
          "output_type": "execute_result",
          "data": {
            "image/png": "[encoded data removed]",
            "text/plain": [
              "<qrcode.image.pil.PilImage at 0x7f5f08f5b910>"
            ]
          },
          "metadata": {
            "tags": []
          },
          "execution_count": 23
        }
      ]
    },
    {
      "cell_type": "markdown",
      "metadata": {
        "id": "YAVjATxFt9Dy"
      },
      "source": [
        "Last, get the project hosted on google colab with a single command.\n",
        "\n",
        "To restart Server/Flask you may click Menu: **Runtime->Restart runtime**\n",
        "\n",
        "**Note:** After restart you can start with [here](#scrollTo=xz_TJD1MgEWR)"
      ]
    },
    {
      "cell_type": "code",
      "metadata": {
        "id": "InlgjFxzcJOK",
        "colab": {
          "base_uri": "https://localhost:8080/"
        },
        "outputId": "b8a97b54-60c4-4c4c-ee72-0a8d8c8cbeb5"
      },
      "source": [
        "# First run this cell then open above link \n",
        "!python app.py"
      ],
      "execution_count": null,
      "outputs": [
        {
          "output_type": "stream",
          "text": [
            "Traceback (most recent call last):\n",
            "  File \"app.py\", line 10, in <module>\n",
            "    from src.app_helper import getVideoStream, get_image, detectionAPI\n",
            "  File \"/content/AI-basketball-analysis-on-google-colab/src/app_helper.py\", line 5, in <module>\n",
            "    import tensorflow.compat.v1 as tf\n",
            "  File \"/usr/local/lib/python3.7/dist-packages/tensorflow/__init__.py\", line 41, in <module>\n",
            "    from tensorflow.python.tools import module_util as _module_util\n",
            "  File \"/usr/local/lib/python3.7/dist-packages/tensorflow/python/__init__.py\", line 84, in <module>\n",
            "    from tensorflow.python import keras\n",
            "  File \"/usr/local/lib/python3.7/dist-packages/tensorflow/python/keras/__init__.py\", line 27, in <module>\n",
            "    from tensorflow.python.keras import models\n",
            "  File \"/usr/local/lib/python3.7/dist-packages/tensorflow/python/keras/models.py\", line 24, in <module>\n",
            "    from tensorflow.python.keras import metrics as metrics_module\n",
            "  File \"/usr/local/lib/python3.7/dist-packages/tensorflow/python/keras/metrics.py\", line 37, in <module>\n",
            "    from tensorflow.python.keras.engine import base_layer\n",
            "  File \"/usr/local/lib/python3.7/dist-packages/tensorflow/python/keras/engine/base_layer.py\", line 51, in <module>\n",
            "    from tensorflow.python.keras import initializers\n",
            "  File \"/usr/local/lib/python3.7/dist-packages/tensorflow/python/keras/initializers/__init__.py\", line 122, in <module>\n",
            "    populate_deserializable_objects()\n",
            "  File \"/usr/local/lib/python3.7/dist-packages/tensorflow/python/keras/initializers/__init__.py\", line 80, in populate_deserializable_objects\n",
            "    generic_utils.populate_dict_with_module_objects(\n",
            "AttributeError: module 'tensorflow.python.keras.utils.generic_utils' has no attribute 'populate_dict_with_module_objects'\n"
          ],
          "name": "stdout"
        }
      ]
    },
    {
      "cell_type": "markdown",
      "metadata": {
        "id": "aKZQoTiQYRMP"
      },
      "source": [
        "Or you can run below cell "
      ]
    },
    {
      "cell_type": "code",
      "metadata": {
        "colab": {
          "base_uri": "https://localhost:8080/"
        },
        "id": "yDPq9cVsGTri",
        "outputId": "ed077919-b076-4fa4-9a03-49e43ae90ba4"
      },
      "source": [
        "! pip install tensorflow==2.1.0"
      ],
      "execution_count": null,
      "outputs": [
        {
          "output_type": "stream",
          "text": [
            "Collecting tensorflow==2.1.0\n",
            "  Downloading tensorflow-2.1.0-cp37-cp37m-manylinux2010_x86_64.whl (421.8 MB)\n",
            "\u001b[K     |████████████████████████████████| 421.8 MB 25 kB/s \n",
            "\u001b[?25hCollecting tensorboard<2.2.0,>=2.1.0\n",
            "  Downloading tensorboard-2.1.1-py3-none-any.whl (3.8 MB)\n",
            "\u001b[K     |████████████████████████████████| 3.8 MB 60.2 MB/s \n",
            "\u001b[?25hRequirement already satisfied: termcolor>=1.1.0 in /usr/local/lib/python3.7/dist-packages (from tensorflow==2.1.0) (1.1.0)\n",
            "Requirement already satisfied: six>=1.12.0 in /usr/local/lib/python3.7/dist-packages (from tensorflow==2.1.0) (1.15.0)\n",
            "Requirement already satisfied: numpy<2.0,>=1.16.0 in /usr/local/lib/python3.7/dist-packages (from tensorflow==2.1.0) (1.19.5)\n",
            "Requirement already satisfied: protobuf>=3.8.0 in /usr/local/lib/python3.7/dist-packages (from tensorflow==2.1.0) (3.17.3)\n",
            "Requirement already satisfied: opt-einsum>=2.3.2 in /usr/local/lib/python3.7/dist-packages (from tensorflow==2.1.0) (3.3.0)\n",
            "Requirement already satisfied: astor>=0.6.0 in /usr/local/lib/python3.7/dist-packages (from tensorflow==2.1.0) (0.8.1)\n",
            "Requirement already satisfied: keras-preprocessing>=1.1.0 in /usr/local/lib/python3.7/dist-packages (from tensorflow==2.1.0) (1.1.2)\n",
            "Collecting keras-applications>=1.0.8\n",
            "  Downloading Keras_Applications-1.0.8-py3-none-any.whl (50 kB)\n",
            "\u001b[K     |████████████████████████████████| 50 kB 9.1 MB/s \n",
            "\u001b[?25hRequirement already satisfied: grpcio>=1.8.6 in /usr/local/lib/python3.7/dist-packages (from tensorflow==2.1.0) (1.34.1)\n",
            "Requirement already satisfied: wheel>=0.26 in /usr/local/lib/python3.7/dist-packages (from tensorflow==2.1.0) (0.37.0)\n",
            "Collecting tensorflow-estimator<2.2.0,>=2.1.0rc0\n",
            "  Downloading tensorflow_estimator-2.1.0-py2.py3-none-any.whl (448 kB)\n",
            "\u001b[K     |████████████████████████████████| 448 kB 59.9 MB/s \n",
            "\u001b[?25hRequirement already satisfied: absl-py>=0.7.0 in /usr/local/lib/python3.7/dist-packages (from tensorflow==2.1.0) (0.12.0)\n",
            "Requirement already satisfied: scipy==1.4.1 in /usr/local/lib/python3.7/dist-packages (from tensorflow==2.1.0) (1.4.1)\n",
            "Collecting gast==0.2.2\n",
            "  Downloading gast-0.2.2.tar.gz (10 kB)\n",
            "Requirement already satisfied: google-pasta>=0.1.6 in /usr/local/lib/python3.7/dist-packages (from tensorflow==2.1.0) (0.2.0)\n",
            "Requirement already satisfied: wrapt>=1.11.1 in /usr/local/lib/python3.7/dist-packages (from tensorflow==2.1.0) (1.12.1)\n",
            "Requirement already satisfied: h5py in /usr/local/lib/python3.7/dist-packages (from keras-applications>=1.0.8->tensorflow==2.1.0) (3.1.0)\n",
            "Requirement already satisfied: markdown>=2.6.8 in /usr/local/lib/python3.7/dist-packages (from tensorboard<2.2.0,>=2.1.0->tensorflow==2.1.0) (3.3.4)\n",
            "Requirement already satisfied: werkzeug>=0.11.15 in /usr/local/lib/python3.7/dist-packages (from tensorboard<2.2.0,>=2.1.0->tensorflow==2.1.0) (1.0.1)\n",
            "Requirement already satisfied: requests<3,>=2.21.0 in /usr/local/lib/python3.7/dist-packages (from tensorboard<2.2.0,>=2.1.0->tensorflow==2.1.0) (2.23.0)\n",
            "Requirement already satisfied: google-auth-oauthlib<0.5,>=0.4.1 in /usr/local/lib/python3.7/dist-packages (from tensorboard<2.2.0,>=2.1.0->tensorflow==2.1.0) (0.4.5)\n",
            "Requirement already satisfied: google-auth<2,>=1.6.3 in /usr/local/lib/python3.7/dist-packages (from tensorboard<2.2.0,>=2.1.0->tensorflow==2.1.0) (1.34.0)\n",
            "Requirement already satisfied: setuptools>=41.0.0 in /usr/local/lib/python3.7/dist-packages (from tensorboard<2.2.0,>=2.1.0->tensorflow==2.1.0) (57.2.0)\n",
            "Requirement already satisfied: pyasn1-modules>=0.2.1 in /usr/local/lib/python3.7/dist-packages (from google-auth<2,>=1.6.3->tensorboard<2.2.0,>=2.1.0->tensorflow==2.1.0) (0.2.8)\n",
            "Requirement already satisfied: cachetools<5.0,>=2.0.0 in /usr/local/lib/python3.7/dist-packages (from google-auth<2,>=1.6.3->tensorboard<2.2.0,>=2.1.0->tensorflow==2.1.0) (4.2.2)\n",
            "Requirement already satisfied: rsa<5,>=3.1.4 in /usr/local/lib/python3.7/dist-packages (from google-auth<2,>=1.6.3->tensorboard<2.2.0,>=2.1.0->tensorflow==2.1.0) (4.7.2)\n",
            "Requirement already satisfied: requests-oauthlib>=0.7.0 in /usr/local/lib/python3.7/dist-packages (from google-auth-oauthlib<0.5,>=0.4.1->tensorboard<2.2.0,>=2.1.0->tensorflow==2.1.0) (1.3.0)\n",
            "Requirement already satisfied: importlib-metadata in /usr/local/lib/python3.7/dist-packages (from markdown>=2.6.8->tensorboard<2.2.0,>=2.1.0->tensorflow==2.1.0) (4.6.3)\n",
            "Requirement already satisfied: pyasn1<0.5.0,>=0.4.6 in /usr/local/lib/python3.7/dist-packages (from pyasn1-modules>=0.2.1->google-auth<2,>=1.6.3->tensorboard<2.2.0,>=2.1.0->tensorflow==2.1.0) (0.4.8)\n",
            "Requirement already satisfied: idna<3,>=2.5 in /usr/local/lib/python3.7/dist-packages (from requests<3,>=2.21.0->tensorboard<2.2.0,>=2.1.0->tensorflow==2.1.0) (2.10)\n",
            "Requirement already satisfied: chardet<4,>=3.0.2 in /usr/local/lib/python3.7/dist-packages (from requests<3,>=2.21.0->tensorboard<2.2.0,>=2.1.0->tensorflow==2.1.0) (3.0.4)\n",
            "Requirement already satisfied: urllib3!=1.25.0,!=1.25.1,<1.26,>=1.21.1 in /usr/local/lib/python3.7/dist-packages (from requests<3,>=2.21.0->tensorboard<2.2.0,>=2.1.0->tensorflow==2.1.0) (1.24.3)\n",
            "Requirement already satisfied: certifi>=2017.4.17 in /usr/local/lib/python3.7/dist-packages (from requests<3,>=2.21.0->tensorboard<2.2.0,>=2.1.0->tensorflow==2.1.0) (2021.5.30)\n",
            "Requirement already satisfied: oauthlib>=3.0.0 in /usr/local/lib/python3.7/dist-packages (from requests-oauthlib>=0.7.0->google-auth-oauthlib<0.5,>=0.4.1->tensorboard<2.2.0,>=2.1.0->tensorflow==2.1.0) (3.1.1)\n",
            "Requirement already satisfied: cached-property in /usr/local/lib/python3.7/dist-packages (from h5py->keras-applications>=1.0.8->tensorflow==2.1.0) (1.5.2)\n",
            "Requirement already satisfied: zipp>=0.5 in /usr/local/lib/python3.7/dist-packages (from importlib-metadata->markdown>=2.6.8->tensorboard<2.2.0,>=2.1.0->tensorflow==2.1.0) (3.5.0)\n",
            "Requirement already satisfied: typing-extensions>=3.6.4 in /usr/local/lib/python3.7/dist-packages (from importlib-metadata->markdown>=2.6.8->tensorboard<2.2.0,>=2.1.0->tensorflow==2.1.0) (3.7.4.3)\n",
            "Building wheels for collected packages: gast\n",
            "  Building wheel for gast (setup.py) ... \u001b[?25l\u001b[?25hdone\n",
            "  Created wheel for gast: filename=gast-0.2.2-py3-none-any.whl size=7554 sha256=29ec33d6091715b72b4d97825cfbf8a48b8e29765a7baab7b7e0ff3334429a3b\n",
            "  Stored in directory: /root/.cache/pip/wheels/21/7f/02/420f32a803f7d0967b48dd823da3f558c5166991bfd204eef3\n",
            "Successfully built gast\n",
            "Installing collected packages: tensorflow-estimator, tensorboard, keras-applications, gast, tensorflow\n",
            "  Attempting uninstall: tensorflow-estimator\n",
            "    Found existing installation: tensorflow-estimator 2.5.0\n",
            "    Uninstalling tensorflow-estimator-2.5.0:\n",
            "      Successfully uninstalled tensorflow-estimator-2.5.0\n",
            "  Attempting uninstall: tensorboard\n",
            "    Found existing installation: tensorboard 2.5.0\n",
            "    Uninstalling tensorboard-2.5.0:\n",
            "      Successfully uninstalled tensorboard-2.5.0\n",
            "  Attempting uninstall: gast\n",
            "    Found existing installation: gast 0.4.0\n",
            "    Uninstalling gast-0.4.0:\n",
            "      Successfully uninstalled gast-0.4.0\n",
            "  Attempting uninstall: tensorflow\n",
            "    Found existing installation: tensorflow 2.5.0\n",
            "    Uninstalling tensorflow-2.5.0:\n",
            "      Successfully uninstalled tensorflow-2.5.0\n",
            "\u001b[31mERROR: pip's dependency resolver does not currently take into account all the packages that are installed. This behaviour is the source of the following dependency conflicts.\n",
            "tensorflow-probability 0.13.0 requires gast>=0.3.2, but you have gast 0.2.2 which is incompatible.\u001b[0m\n",
            "Successfully installed gast-0.2.2 keras-applications-1.0.8 tensorboard-2.1.1 tensorflow-2.1.0 tensorflow-estimator-2.1.0\n"
          ],
          "name": "stdout"
        }
      ]
    },
    {
      "cell_type": "code",
      "metadata": {
        "id": "r5Cpveg4VYuy",
        "colab": {
          "base_uri": "https://localhost:8080/",
          "height": 392
        },
        "outputId": "e15f82f4-1fc5-4a81-8727-317ceaf13cc1"
      },
      "source": [
        "import os\n",
        "import sys\n",
        "import cv2\n",
        "\n",
        "from flask import Flask, render_template, Response,  request, session, redirect, url_for, send_from_directory, flash, jsonify, abort\n",
        "from werkzeug.utils import secure_filename\n",
        "from PIL import Image\n",
        "\n",
        "\n",
        "from src.config import shooting_result\n",
        "from src.app_helper import getVideoStream, get_image, detectionAPI\n",
        "\n",
        "app = Flask(__name__)\n",
        "\n",
        "UPLOAD_FOLDER = './static/uploads'\n",
        "app.config['UPLOAD_FOLDER'] = UPLOAD_FOLDER\n",
        "#useless key, in order to use session\n",
        "app.secret_key = \"super secret key\" \n",
        "\n",
        "@app.route(\"/\")\n",
        "def index():\n",
        "    return render_template(\"index.html\")\n",
        "\n",
        "@app.route('/detection_json', methods=['GET', 'POST'])\n",
        "def detection_json():\n",
        "    if request.method == 'POST':\n",
        "        response = []\n",
        "        f = request.files['image']\n",
        "        # create a secure filename\n",
        "        filename = secure_filename(f.filename)\n",
        "        print(\"filename\", filename)\n",
        "        # save file to /static/uploads\n",
        "        filepath = os.path.join(app.config['UPLOAD_FOLDER'], filename)\n",
        "        print(\"filepath\", filepath)\n",
        "        f.save(filepath)\n",
        "        detectionAPI(response, filepath)\n",
        "        print(response)\n",
        "        try:\n",
        "            return jsonify(response), 200\n",
        "        except FileNotFoundError:\n",
        "            abort(404)\n",
        "\n",
        "\n",
        "@app.route('/sample_detection', methods=['GET', 'POST'])\n",
        "def upload_sample_image():\n",
        "    if request.method == 'POST':\n",
        "        response = []\n",
        "        filename = \"sample_image.jpg\"\n",
        "        print(\"filename\", filename)\n",
        "        filepath = \"./static/uploads/sample_image.jpg\"\n",
        "        print(\"filepath\", filepath)\n",
        "        get_image(filepath, filename, response)\n",
        "        return render_template(\"shot_detection.html\", display_detection=filename, fname=filename, response=response)\n",
        "\n",
        "@app.route('/basketball_detection', methods=['GET', 'POST'])\n",
        "def upload_image():\n",
        "    if request.method == 'POST':\n",
        "        response = []\n",
        "        f = request.files['image']\n",
        "        # create a secure filename\n",
        "        filename = secure_filename(f.filename)\n",
        "        print(\"filename\", filename)\n",
        "        # save file to /static/uploads\n",
        "        filepath = os.path.join(app.config['UPLOAD_FOLDER'], filename)\n",
        "        print(\"filepath\", filepath)\n",
        "        f.save(filepath)\n",
        "        get_image(filepath, filename, response)\n",
        "        return render_template(\"shot_detection.html\", display_detection=filename, fname=filename, response=response)\n",
        "\n",
        "@app.route('/sample_analysis', methods=['GET', 'POST'])\n",
        "def upload_video():\n",
        "    global shooting_result\n",
        "    shooting_result['attempts'] = 0\n",
        "    shooting_result['made'] = 0\n",
        "    shooting_result['miss'] = 0\n",
        "    if (os.path.exists(\"./static/detections/trajectory_fitting.jpg\")):\n",
        "        os.remove(\"./static/detections/trajectory_fitting.jpg\")\n",
        "    if request.method == 'POST':\n",
        "        filename = \"sample_video.mp4\"\n",
        "        print(\"filename\", filename)\n",
        "        filepath = \"./static/uploads/sample_video.mp4\"\n",
        "        print(\"filepath\", filepath)\n",
        "        session['video_path'] = filepath\n",
        "        return render_template(\"shooting_analysis.html\")\n",
        "\n",
        "@app.route('/shooting_analysis', methods=['GET', 'POST'])\n",
        "def upload_sample_video():\n",
        "    global shooting_result\n",
        "    shooting_result['attempts'] = 0\n",
        "    shooting_result['made'] = 0\n",
        "    shooting_result['miss'] = 0\n",
        "    if (os.path.exists(\"./static/detections/trajectory_fitting.jpg\")):\n",
        "        os.remove(\"./static/detections/trajectory_fitting.jpg\")\n",
        "    if request.method == 'POST':\n",
        "        f = request.files['video']\n",
        "        # create a secure filename\n",
        "        filename = secure_filename(f.filename)\n",
        "        print(\"filename\", filename)\n",
        "        # save file to /static/uploads\n",
        "        filepath = os.path.join(app.config['UPLOAD_FOLDER'], filename)\n",
        "        print(\"filepath\", filepath)\n",
        "        f.save(filepath)\n",
        "        session['video_path'] = filepath\n",
        "        return render_template(\"shooting_analysis.html\")\n",
        "\n",
        "@app.route('/video_feed')\n",
        "def video_feed():\n",
        "    video_path = session.get('video_path', None)\n",
        "    stream = getVideoStream(video_path)\n",
        "    return Response(stream,\n",
        "                    mimetype='multipart/x-mixed-replace; boundary=frame')\n",
        "\n",
        "@app.route(\"/result\", methods=['GET', 'POST'])\n",
        "def result():\n",
        "    return render_template(\"result.html\", shooting_result=shooting_result)\n",
        "\n",
        "#disable caching\n",
        "@app.after_request\n",
        "def after_request(response):\n",
        "    response.headers[\"Cache-Control\"] = \"no-cache, no-store, must-revalidate, public, max-age=0\"\n",
        "    response.headers[\"Expires\"] = 0\n",
        "    response.headers[\"Pragma\"] = \"no-cache\"\n",
        "    return response\n",
        "\n",
        "if __name__ == '__main__':\n",
        "    app.run(debug=True, use_reloader=True)"
      ],
      "execution_count": null,
      "outputs": [
        {
          "output_type": "error",
          "ename": "AttributeError",
          "evalue": "ignored",
          "traceback": [
            "\u001b[0;31m---------------------------------------------------------------------------\u001b[0m",
            "\u001b[0;31mAttributeError\u001b[0m                            Traceback (most recent call last)",
            "\u001b[0;32m<ipython-input-25-9ea68b0a29f1>\u001b[0m in \u001b[0;36m<module>\u001b[0;34m()\u001b[0m\n\u001b[1;32m      9\u001b[0m \u001b[0;34m\u001b[0m\u001b[0m\n\u001b[1;32m     10\u001b[0m \u001b[0;32mfrom\u001b[0m \u001b[0msrc\u001b[0m\u001b[0;34m.\u001b[0m\u001b[0mconfig\u001b[0m \u001b[0;32mimport\u001b[0m \u001b[0mshooting_result\u001b[0m\u001b[0;34m\u001b[0m\u001b[0;34m\u001b[0m\u001b[0m\n\u001b[0;32m---> 11\u001b[0;31m \u001b[0;32mfrom\u001b[0m \u001b[0msrc\u001b[0m\u001b[0;34m.\u001b[0m\u001b[0mapp_helper\u001b[0m \u001b[0;32mimport\u001b[0m \u001b[0mgetVideoStream\u001b[0m\u001b[0;34m,\u001b[0m \u001b[0mget_image\u001b[0m\u001b[0;34m,\u001b[0m \u001b[0mdetectionAPI\u001b[0m\u001b[0;34m\u001b[0m\u001b[0;34m\u001b[0m\u001b[0m\n\u001b[0m\u001b[1;32m     12\u001b[0m \u001b[0;34m\u001b[0m\u001b[0m\n\u001b[1;32m     13\u001b[0m \u001b[0mapp\u001b[0m \u001b[0;34m=\u001b[0m \u001b[0mFlask\u001b[0m\u001b[0;34m(\u001b[0m\u001b[0m__name__\u001b[0m\u001b[0;34m)\u001b[0m\u001b[0;34m\u001b[0m\u001b[0;34m\u001b[0m\u001b[0m\n",
            "\u001b[0;32m/content/AI-basketball-analysis-on-google-colab/src/app_helper.py\u001b[0m in \u001b[0;36m<module>\u001b[0;34m()\u001b[0m\n\u001b[1;32m      3\u001b[0m \u001b[0;32mimport\u001b[0m \u001b[0mcv2\u001b[0m\u001b[0;34m\u001b[0m\u001b[0;34m\u001b[0m\u001b[0m\n\u001b[1;32m      4\u001b[0m \u001b[0;32mimport\u001b[0m \u001b[0mnumpy\u001b[0m \u001b[0;32mas\u001b[0m \u001b[0mnp\u001b[0m\u001b[0;34m\u001b[0m\u001b[0;34m\u001b[0m\u001b[0m\n\u001b[0;32m----> 5\u001b[0;31m \u001b[0;32mimport\u001b[0m \u001b[0mtensorflow\u001b[0m\u001b[0;34m.\u001b[0m\u001b[0mcompat\u001b[0m\u001b[0;34m.\u001b[0m\u001b[0mv1\u001b[0m \u001b[0;32mas\u001b[0m \u001b[0mtf\u001b[0m\u001b[0;34m\u001b[0m\u001b[0;34m\u001b[0m\u001b[0m\n\u001b[0m\u001b[1;32m      6\u001b[0m \u001b[0;32mfrom\u001b[0m \u001b[0mflask\u001b[0m \u001b[0;32mimport\u001b[0m \u001b[0mFlask\u001b[0m\u001b[0;34m,\u001b[0m \u001b[0mrequest\u001b[0m\u001b[0;34m,\u001b[0m \u001b[0mResponse\u001b[0m\u001b[0;34m,\u001b[0m \u001b[0mjsonify\u001b[0m\u001b[0;34m,\u001b[0m \u001b[0msend_from_directory\u001b[0m\u001b[0;34m,\u001b[0m \u001b[0mabort\u001b[0m\u001b[0;34m\u001b[0m\u001b[0;34m\u001b[0m\u001b[0m\n\u001b[1;32m      7\u001b[0m \u001b[0;32mimport\u001b[0m \u001b[0mos\u001b[0m\u001b[0;34m\u001b[0m\u001b[0;34m\u001b[0m\u001b[0m\n",
            "\u001b[0;32m/usr/local/lib/python3.7/dist-packages/tensorflow/__init__.py\u001b[0m in \u001b[0;36m<module>\u001b[0;34m()\u001b[0m\n\u001b[1;32m     39\u001b[0m \u001b[0;32mimport\u001b[0m \u001b[0msys\u001b[0m \u001b[0;32mas\u001b[0m \u001b[0m_sys\u001b[0m\u001b[0;34m\u001b[0m\u001b[0;34m\u001b[0m\u001b[0m\n\u001b[1;32m     40\u001b[0m \u001b[0;34m\u001b[0m\u001b[0m\n\u001b[0;32m---> 41\u001b[0;31m \u001b[0;32mfrom\u001b[0m \u001b[0mtensorflow\u001b[0m\u001b[0;34m.\u001b[0m\u001b[0mpython\u001b[0m\u001b[0;34m.\u001b[0m\u001b[0mtools\u001b[0m \u001b[0;32mimport\u001b[0m \u001b[0mmodule_util\u001b[0m \u001b[0;32mas\u001b[0m \u001b[0m_module_util\u001b[0m\u001b[0;34m\u001b[0m\u001b[0;34m\u001b[0m\u001b[0m\n\u001b[0m\u001b[1;32m     42\u001b[0m \u001b[0;32mfrom\u001b[0m \u001b[0mtensorflow\u001b[0m\u001b[0;34m.\u001b[0m\u001b[0mpython\u001b[0m\u001b[0;34m.\u001b[0m\u001b[0mutil\u001b[0m\u001b[0;34m.\u001b[0m\u001b[0mlazy_loader\u001b[0m \u001b[0;32mimport\u001b[0m \u001b[0mLazyLoader\u001b[0m \u001b[0;32mas\u001b[0m \u001b[0m_LazyLoader\u001b[0m\u001b[0;34m\u001b[0m\u001b[0;34m\u001b[0m\u001b[0m\n\u001b[1;32m     43\u001b[0m \u001b[0;34m\u001b[0m\u001b[0m\n",
            "\u001b[0;32m/usr/local/lib/python3.7/dist-packages/tensorflow/python/__init__.py\u001b[0m in \u001b[0;36m<module>\u001b[0;34m()\u001b[0m\n\u001b[1;32m     82\u001b[0m \u001b[0;32mfrom\u001b[0m \u001b[0mtensorflow\u001b[0m\u001b[0;34m.\u001b[0m\u001b[0mpython\u001b[0m \u001b[0;32mimport\u001b[0m \u001b[0mdata\u001b[0m\u001b[0;34m\u001b[0m\u001b[0;34m\u001b[0m\u001b[0m\n\u001b[1;32m     83\u001b[0m \u001b[0;32mfrom\u001b[0m \u001b[0mtensorflow\u001b[0m\u001b[0;34m.\u001b[0m\u001b[0mpython\u001b[0m \u001b[0;32mimport\u001b[0m \u001b[0mdistribute\u001b[0m\u001b[0;34m\u001b[0m\u001b[0;34m\u001b[0m\u001b[0m\n\u001b[0;32m---> 84\u001b[0;31m \u001b[0;32mfrom\u001b[0m \u001b[0mtensorflow\u001b[0m\u001b[0;34m.\u001b[0m\u001b[0mpython\u001b[0m \u001b[0;32mimport\u001b[0m \u001b[0mkeras\u001b[0m\u001b[0;34m\u001b[0m\u001b[0;34m\u001b[0m\u001b[0m\n\u001b[0m\u001b[1;32m     85\u001b[0m \u001b[0;32mfrom\u001b[0m \u001b[0mtensorflow\u001b[0m\u001b[0;34m.\u001b[0m\u001b[0mpython\u001b[0m\u001b[0;34m.\u001b[0m\u001b[0mfeature_column\u001b[0m \u001b[0;32mimport\u001b[0m \u001b[0mfeature_column_lib\u001b[0m \u001b[0;32mas\u001b[0m \u001b[0mfeature_column\u001b[0m\u001b[0;34m\u001b[0m\u001b[0;34m\u001b[0m\u001b[0m\n\u001b[1;32m     86\u001b[0m \u001b[0;32mfrom\u001b[0m \u001b[0mtensorflow\u001b[0m\u001b[0;34m.\u001b[0m\u001b[0mpython\u001b[0m\u001b[0;34m.\u001b[0m\u001b[0mlayers\u001b[0m \u001b[0;32mimport\u001b[0m \u001b[0mlayers\u001b[0m\u001b[0;34m\u001b[0m\u001b[0;34m\u001b[0m\u001b[0m\n",
            "\u001b[0;32m/usr/local/lib/python3.7/dist-packages/tensorflow/python/keras/__init__.py\u001b[0m in \u001b[0;36m<module>\u001b[0;34m()\u001b[0m\n\u001b[1;32m     25\u001b[0m \u001b[0;34m\u001b[0m\u001b[0m\n\u001b[1;32m     26\u001b[0m \u001b[0;31m# See b/110718070#comment18 for more details about this import.\u001b[0m\u001b[0;34m\u001b[0m\u001b[0;34m\u001b[0m\u001b[0;34m\u001b[0m\u001b[0m\n\u001b[0;32m---> 27\u001b[0;31m \u001b[0;32mfrom\u001b[0m \u001b[0mtensorflow\u001b[0m\u001b[0;34m.\u001b[0m\u001b[0mpython\u001b[0m\u001b[0;34m.\u001b[0m\u001b[0mkeras\u001b[0m \u001b[0;32mimport\u001b[0m \u001b[0mmodels\u001b[0m\u001b[0;34m\u001b[0m\u001b[0;34m\u001b[0m\u001b[0m\n\u001b[0m\u001b[1;32m     28\u001b[0m \u001b[0;34m\u001b[0m\u001b[0m\n\u001b[1;32m     29\u001b[0m \u001b[0;32mfrom\u001b[0m \u001b[0mtensorflow\u001b[0m\u001b[0;34m.\u001b[0m\u001b[0mpython\u001b[0m\u001b[0;34m.\u001b[0m\u001b[0mkeras\u001b[0m\u001b[0;34m.\u001b[0m\u001b[0mengine\u001b[0m\u001b[0;34m.\u001b[0m\u001b[0minput_layer\u001b[0m \u001b[0;32mimport\u001b[0m \u001b[0mInput\u001b[0m\u001b[0;34m\u001b[0m\u001b[0;34m\u001b[0m\u001b[0m\n",
            "\u001b[0;32m/usr/local/lib/python3.7/dist-packages/tensorflow/python/keras/models.py\u001b[0m in \u001b[0;36m<module>\u001b[0;34m()\u001b[0m\n\u001b[1;32m     22\u001b[0m \u001b[0;32mfrom\u001b[0m \u001b[0mtensorflow\u001b[0m\u001b[0;34m.\u001b[0m\u001b[0mpython\u001b[0m\u001b[0;34m.\u001b[0m\u001b[0mframework\u001b[0m \u001b[0;32mimport\u001b[0m \u001b[0mops\u001b[0m\u001b[0;34m\u001b[0m\u001b[0;34m\u001b[0m\u001b[0m\n\u001b[1;32m     23\u001b[0m \u001b[0;32mfrom\u001b[0m \u001b[0mtensorflow\u001b[0m\u001b[0;34m.\u001b[0m\u001b[0mpython\u001b[0m\u001b[0;34m.\u001b[0m\u001b[0mkeras\u001b[0m \u001b[0;32mimport\u001b[0m \u001b[0mbackend\u001b[0m \u001b[0;32mas\u001b[0m \u001b[0mK\u001b[0m\u001b[0;34m\u001b[0m\u001b[0;34m\u001b[0m\u001b[0m\n\u001b[0;32m---> 24\u001b[0;31m \u001b[0;32mfrom\u001b[0m \u001b[0mtensorflow\u001b[0m\u001b[0;34m.\u001b[0m\u001b[0mpython\u001b[0m\u001b[0;34m.\u001b[0m\u001b[0mkeras\u001b[0m \u001b[0;32mimport\u001b[0m \u001b[0mmetrics\u001b[0m \u001b[0;32mas\u001b[0m \u001b[0mmetrics_module\u001b[0m\u001b[0;34m\u001b[0m\u001b[0;34m\u001b[0m\u001b[0m\n\u001b[0m\u001b[1;32m     25\u001b[0m \u001b[0;32mfrom\u001b[0m \u001b[0mtensorflow\u001b[0m\u001b[0;34m.\u001b[0m\u001b[0mpython\u001b[0m\u001b[0;34m.\u001b[0m\u001b[0mkeras\u001b[0m \u001b[0;32mimport\u001b[0m \u001b[0moptimizers\u001b[0m\u001b[0;34m\u001b[0m\u001b[0;34m\u001b[0m\u001b[0m\n\u001b[1;32m     26\u001b[0m \u001b[0;32mfrom\u001b[0m \u001b[0mtensorflow\u001b[0m\u001b[0;34m.\u001b[0m\u001b[0mpython\u001b[0m\u001b[0;34m.\u001b[0m\u001b[0mkeras\u001b[0m\u001b[0;34m.\u001b[0m\u001b[0mengine\u001b[0m \u001b[0;32mimport\u001b[0m \u001b[0mnetwork\u001b[0m\u001b[0;34m\u001b[0m\u001b[0;34m\u001b[0m\u001b[0m\n",
            "\u001b[0;32m/usr/local/lib/python3.7/dist-packages/tensorflow/python/keras/metrics.py\u001b[0m in \u001b[0;36m<module>\u001b[0;34m()\u001b[0m\n\u001b[1;32m     35\u001b[0m \u001b[0;32mfrom\u001b[0m \u001b[0mtensorflow\u001b[0m\u001b[0;34m.\u001b[0m\u001b[0mpython\u001b[0m\u001b[0;34m.\u001b[0m\u001b[0mframework\u001b[0m \u001b[0;32mimport\u001b[0m \u001b[0mtensor_spec\u001b[0m\u001b[0;34m\u001b[0m\u001b[0;34m\u001b[0m\u001b[0m\n\u001b[1;32m     36\u001b[0m \u001b[0;32mfrom\u001b[0m \u001b[0mtensorflow\u001b[0m\u001b[0;34m.\u001b[0m\u001b[0mpython\u001b[0m\u001b[0;34m.\u001b[0m\u001b[0mkeras\u001b[0m \u001b[0;32mimport\u001b[0m \u001b[0mbackend\u001b[0m \u001b[0;32mas\u001b[0m \u001b[0mK\u001b[0m\u001b[0;34m\u001b[0m\u001b[0;34m\u001b[0m\u001b[0m\n\u001b[0;32m---> 37\u001b[0;31m \u001b[0;32mfrom\u001b[0m \u001b[0mtensorflow\u001b[0m\u001b[0;34m.\u001b[0m\u001b[0mpython\u001b[0m\u001b[0;34m.\u001b[0m\u001b[0mkeras\u001b[0m\u001b[0;34m.\u001b[0m\u001b[0mengine\u001b[0m \u001b[0;32mimport\u001b[0m \u001b[0mbase_layer\u001b[0m\u001b[0;34m\u001b[0m\u001b[0;34m\u001b[0m\u001b[0m\n\u001b[0m\u001b[1;32m     38\u001b[0m \u001b[0;32mfrom\u001b[0m \u001b[0mtensorflow\u001b[0m\u001b[0;34m.\u001b[0m\u001b[0mpython\u001b[0m\u001b[0;34m.\u001b[0m\u001b[0mkeras\u001b[0m\u001b[0;34m.\u001b[0m\u001b[0mengine\u001b[0m \u001b[0;32mimport\u001b[0m \u001b[0mbase_layer_utils\u001b[0m\u001b[0;34m\u001b[0m\u001b[0;34m\u001b[0m\u001b[0m\n\u001b[1;32m     39\u001b[0m \u001b[0;32mfrom\u001b[0m \u001b[0mtensorflow\u001b[0m\u001b[0;34m.\u001b[0m\u001b[0mpython\u001b[0m\u001b[0;34m.\u001b[0m\u001b[0mkeras\u001b[0m\u001b[0;34m.\u001b[0m\u001b[0mlosses\u001b[0m \u001b[0;32mimport\u001b[0m \u001b[0mbinary_crossentropy\u001b[0m\u001b[0;34m\u001b[0m\u001b[0;34m\u001b[0m\u001b[0m\n",
            "\u001b[0;32m/usr/local/lib/python3.7/dist-packages/tensorflow/python/keras/engine/base_layer.py\u001b[0m in \u001b[0;36m<module>\u001b[0;34m()\u001b[0m\n\u001b[1;32m     49\u001b[0m \u001b[0;32mfrom\u001b[0m \u001b[0mtensorflow\u001b[0m\u001b[0;34m.\u001b[0m\u001b[0mpython\u001b[0m\u001b[0;34m.\u001b[0m\u001b[0mkeras\u001b[0m \u001b[0;32mimport\u001b[0m \u001b[0mbackend\u001b[0m\u001b[0;34m\u001b[0m\u001b[0;34m\u001b[0m\u001b[0m\n\u001b[1;32m     50\u001b[0m \u001b[0;32mfrom\u001b[0m \u001b[0mtensorflow\u001b[0m\u001b[0;34m.\u001b[0m\u001b[0mpython\u001b[0m\u001b[0;34m.\u001b[0m\u001b[0mkeras\u001b[0m \u001b[0;32mimport\u001b[0m \u001b[0mconstraints\u001b[0m\u001b[0;34m\u001b[0m\u001b[0;34m\u001b[0m\u001b[0m\n\u001b[0;32m---> 51\u001b[0;31m \u001b[0;32mfrom\u001b[0m \u001b[0mtensorflow\u001b[0m\u001b[0;34m.\u001b[0m\u001b[0mpython\u001b[0m\u001b[0;34m.\u001b[0m\u001b[0mkeras\u001b[0m \u001b[0;32mimport\u001b[0m \u001b[0minitializers\u001b[0m\u001b[0;34m\u001b[0m\u001b[0;34m\u001b[0m\u001b[0m\n\u001b[0m\u001b[1;32m     52\u001b[0m \u001b[0;32mfrom\u001b[0m \u001b[0mtensorflow\u001b[0m\u001b[0;34m.\u001b[0m\u001b[0mpython\u001b[0m\u001b[0;34m.\u001b[0m\u001b[0mkeras\u001b[0m \u001b[0;32mimport\u001b[0m \u001b[0mregularizers\u001b[0m\u001b[0;34m\u001b[0m\u001b[0;34m\u001b[0m\u001b[0m\n\u001b[1;32m     53\u001b[0m \u001b[0;32mfrom\u001b[0m \u001b[0mtensorflow\u001b[0m\u001b[0;34m.\u001b[0m\u001b[0mpython\u001b[0m\u001b[0;34m.\u001b[0m\u001b[0mkeras\u001b[0m\u001b[0;34m.\u001b[0m\u001b[0mengine\u001b[0m \u001b[0;32mimport\u001b[0m \u001b[0mbase_layer_utils\u001b[0m\u001b[0;34m\u001b[0m\u001b[0;34m\u001b[0m\u001b[0m\n",
            "\u001b[0;32m/usr/local/lib/python3.7/dist-packages/tensorflow/python/keras/initializers/__init__.py\u001b[0m in \u001b[0;36m<module>\u001b[0;34m()\u001b[0m\n\u001b[1;32m    120\u001b[0m \u001b[0;31m# from ALL_OBJECTS. We make no guarantees as to whether these objects will\u001b[0m\u001b[0;34m\u001b[0m\u001b[0;34m\u001b[0m\u001b[0;34m\u001b[0m\u001b[0m\n\u001b[1;32m    121\u001b[0m \u001b[0;31m# using their correct version.\u001b[0m\u001b[0;34m\u001b[0m\u001b[0;34m\u001b[0m\u001b[0;34m\u001b[0m\u001b[0m\n\u001b[0;32m--> 122\u001b[0;31m \u001b[0mpopulate_deserializable_objects\u001b[0m\u001b[0;34m(\u001b[0m\u001b[0;34m)\u001b[0m\u001b[0;34m\u001b[0m\u001b[0;34m\u001b[0m\u001b[0m\n\u001b[0m\u001b[1;32m    123\u001b[0m \u001b[0mglobals\u001b[0m\u001b[0;34m(\u001b[0m\u001b[0;34m)\u001b[0m\u001b[0;34m.\u001b[0m\u001b[0mupdate\u001b[0m\u001b[0;34m(\u001b[0m\u001b[0mLOCAL\u001b[0m\u001b[0;34m.\u001b[0m\u001b[0mALL_OBJECTS\u001b[0m\u001b[0;34m)\u001b[0m\u001b[0;34m\u001b[0m\u001b[0;34m\u001b[0m\u001b[0m\n\u001b[1;32m    124\u001b[0m \u001b[0;34m\u001b[0m\u001b[0m\n",
            "\u001b[0;32m/usr/local/lib/python3.7/dist-packages/tensorflow/python/keras/initializers/__init__.py\u001b[0m in \u001b[0;36mpopulate_deserializable_objects\u001b[0;34m()\u001b[0m\n\u001b[1;32m     78\u001b[0m     \u001b[0mv2_objs\u001b[0m \u001b[0;34m=\u001b[0m \u001b[0;34m{\u001b[0m\u001b[0;34m}\u001b[0m\u001b[0;34m\u001b[0m\u001b[0;34m\u001b[0m\u001b[0m\n\u001b[1;32m     79\u001b[0m     \u001b[0mbase_cls\u001b[0m \u001b[0;34m=\u001b[0m \u001b[0minitializers_v2\u001b[0m\u001b[0;34m.\u001b[0m\u001b[0mInitializer\u001b[0m\u001b[0;34m\u001b[0m\u001b[0;34m\u001b[0m\u001b[0m\n\u001b[0;32m---> 80\u001b[0;31m     generic_utils.populate_dict_with_module_objects(\n\u001b[0m\u001b[1;32m     81\u001b[0m         \u001b[0mv2_objs\u001b[0m\u001b[0;34m,\u001b[0m\u001b[0;34m\u001b[0m\u001b[0;34m\u001b[0m\u001b[0m\n\u001b[1;32m     82\u001b[0m         \u001b[0;34m[\u001b[0m\u001b[0minitializers_v2\u001b[0m\u001b[0;34m]\u001b[0m\u001b[0;34m,\u001b[0m\u001b[0;34m\u001b[0m\u001b[0;34m\u001b[0m\u001b[0m\n",
            "\u001b[0;31mAttributeError\u001b[0m: module 'tensorflow.python.keras.utils.generic_utils' has no attribute 'populate_dict_with_module_objects'"
          ]
        }
      ]
    }
  ]
}
